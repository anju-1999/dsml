{
 "cells": [
  {
   "cell_type": "code",
   "execution_count": 1,
   "id": "673d5ccb",
   "metadata": {},
   "outputs": [],
   "source": [
    "import pandas as pd\n",
    "import numpy as np\n",
    "import matplotlib.pyplot as plt"
   ]
  },
  {
   "cell_type": "code",
   "execution_count": 2,
   "id": "186d5a6d",
   "metadata": {},
   "outputs": [],
   "source": [
    "s=[\"I love this sandwich\",\"This is an amazing place\",\"I feel very good about these beers\",\"This is my best work\",\n",
    "   \"That is an awesome work\",\"I love to dance\",\"I  am sick and tired of this place\",\n",
    "   \"I do not like the taste of this juice\",\"My boss is horrible\",\"What a bad locality to stay\",\n",
    "   \"We will have good fun tomorrow\",\"I do not like this restaurant\",\"I feel very bad today\",\n",
    "   \"I couldn’t solve this problem\",\"I love to play football\",\"I hate fast music\"]\n",
    "l=[\"pos\",\"pos\",\"pos\",\"pos\",\"pos\",\"pos\",\"neg\",\"neg\",\"neg\",\"neg\",\"pos\",\"neg\",\"neg\",\"neg\",\"pos\",\"neg\"]"
   ]
  },
  {
   "cell_type": "code",
   "execution_count": 3,
   "id": "f3392531",
   "metadata": {},
   "outputs": [],
   "source": [
    "df=pd.DataFrame({\"statement\":s,\"label\":l})\n",
    "df.to_csv(\"text.csv\",index=False,encoding='utf-8')"
   ]
  },
  {
   "cell_type": "code",
   "execution_count": 4,
   "id": "69bb969e",
   "metadata": {},
   "outputs": [
    {
     "name": "stdout",
     "output_type": "stream",
     "text": [
      "                                statement label\n",
      "0                    I love this sandwich   pos\n",
      "1                This is an amazing place   pos\n",
      "2      I feel very good about these beers   pos\n",
      "3                    This is my best work   pos\n",
      "4                 That is an awesome work   pos\n",
      "5                         I love to dance   pos\n",
      "6      I  am sick and tired of this place   neg\n",
      "7   I do not like the taste of this juice   neg\n",
      "8                     My boss is horrible   neg\n",
      "9             What a bad locality to stay   neg\n",
      "10         We will have good fun tomorrow   pos\n",
      "11          I do not like this restaurant   neg\n",
      "12                  I feel very bad today   neg\n",
      "13          I couldn’t solve this problem   neg\n",
      "14                I love to play football   pos\n",
      "15                      I hate fast music   neg\n"
     ]
    }
   ],
   "source": [
    "print(df)"
   ]
  },
  {
   "cell_type": "code",
   "execution_count": 5,
   "id": "70eaafbc",
   "metadata": {},
   "outputs": [],
   "source": [
    "#splitting into test and training dataset\n",
    "x=df['statement']\n",
    "y=df['label']\n",
    "from sklearn.model_selection import train_test_split\n",
    "x_train,x_test,y_train,y_test=train_test_split(x,y,test_size=0.25,random_state=1)"
   ]
  },
  {
   "cell_type": "code",
   "execution_count": 6,
   "id": "7050b6bc",
   "metadata": {},
   "outputs": [
    {
     "name": "stdout",
     "output_type": "stream",
     "text": [
      "6     I  am sick and tired of this place\n",
      "10        We will have good fun tomorrow\n",
      "4                That is an awesome work\n",
      "1               This is an amazing place\n",
      "14               I love to play football\n",
      "0                   I love this sandwich\n",
      "15                     I hate fast music\n",
      "9            What a bad locality to stay\n",
      "8                    My boss is horrible\n",
      "12                 I feel very bad today\n",
      "11         I do not like this restaurant\n",
      "5                        I love to dance\n",
      "Name: statement, dtype: object\n"
     ]
    }
   ],
   "source": [
    "print(x_train)"
   ]
  },
  {
   "cell_type": "code",
   "execution_count": 7,
   "id": "1be15218",
   "metadata": {},
   "outputs": [],
   "source": [
    "from sklearn.feature_extraction.text import TfidfVectorizer\n",
    "\n",
    "Tfidf_vect=TfidfVectorizer()\n",
    "Tfidf_vect.fit(x)\n",
    "Train_X_Tfidf=Tfidf_vect.transform(x_train)\n",
    "Test_X_Tfidf=Tfidf_vect.transform(x_test)\n"
   ]
  },
  {
   "cell_type": "code",
   "execution_count": 8,
   "id": "4b3972d8",
   "metadata": {},
   "outputs": [
    {
     "name": "stdout",
     "output_type": "stream",
     "text": [
      "  (0, 43)\t0.414201015861098\n",
      "  (0, 42)\t0.23133718345731544\n",
      "  (0, 35)\t0.414201015861098\n",
      "  (0, 30)\t0.3607167735139124\n",
      "  (0, 29)\t0.3607167735139124\n",
      "  (0, 4)\t0.414201015861098\n",
      "  (0, 1)\t0.414201015861098\n",
      "  (1, 50)\t0.4167237888361141\n",
      "  (1, 48)\t0.4167237888361141\n",
      "  (1, 46)\t0.4167237888361141\n",
      "  (1, 19)\t0.4167237888361141\n",
      "  (1, 17)\t0.36291379016285535\n",
      "  (1, 16)\t0.4167237888361141\n",
      "  (2, 51)\t0.4344398441142798\n",
      "  (2, 39)\t0.4988551627631241\n",
      "  (2, 21)\t0.35328614020518057\n",
      "  (2, 5)\t0.4988551627631241\n",
      "  (2, 3)\t0.4344398441142798\n",
      "  (3, 42)\t0.306049296648128\n",
      "  (3, 30)\t0.47721301510305897\n",
      "  (3, 21)\t0.3880692492769788\n",
      "  (3, 3)\t0.47721301510305897\n",
      "  (3, 2)\t0.5479704026854768\n",
      "  (4, 44)\t0.434635502834722\n",
      "  (4, 31)\t0.5577562009297686\n",
      "  :\t:\n",
      "  (5, 25)\t0.5625005457678904\n",
      "  (6, 26)\t0.5773502691896257\n",
      "  (6, 18)\t0.5773502691896257\n",
      "  (6, 13)\t0.5773502691896257\n",
      "  (7, 49)\t0.47860244256547524\n",
      "  (7, 44)\t0.37295437134649556\n",
      "  (7, 37)\t0.47860244256547524\n",
      "  (7, 24)\t0.47860244256547524\n",
      "  (7, 6)\t0.41680228262885405\n",
      "  (8, 27)\t0.4823353324678624\n",
      "  (8, 21)\t0.39223471373709706\n",
      "  (8, 20)\t0.5538522169282588\n",
      "  (8, 9)\t0.5538522169282588\n",
      "  (9, 47)\t0.4812071661851886\n",
      "  (9, 45)\t0.5525567750340779\n",
      "  (9, 14)\t0.4812071661851886\n",
      "  (9, 6)\t0.4812071661851886\n",
      "  (10, 42)\t0.2948875339798557\n",
      "  (10, 33)\t0.5279856628053359\n",
      "  (10, 28)\t0.45980883062974826\n",
      "  (10, 23)\t0.45980883062974826\n",
      "  (10, 12)\t0.45980883062974826\n",
      "  (11, 44)\t0.5236541840916221\n",
      "  (11, 25)\t0.5236541840916221\n",
      "  (11, 11)\t0.6719915110823016\n"
     ]
    }
   ],
   "source": [
    "print(Train_X_Tfidf)"
   ]
  },
  {
   "cell_type": "code",
   "execution_count": 9,
   "id": "bd541395",
   "metadata": {},
   "outputs": [
    {
     "data": {
      "text/plain": [
       "SVC(gamma='auto', kernel='linear')"
      ]
     },
     "execution_count": 9,
     "metadata": {},
     "output_type": "execute_result"
    }
   ],
   "source": [
    "from sklearn.svm import SVC   #Support Vector Machine\n",
    "classifier=SVC(C=1.0,kernel='linear',degree=3,gamma='auto')\n",
    "classifier.fit(Train_X_Tfidf,y_train)"
   ]
  },
  {
   "cell_type": "code",
   "execution_count": 10,
   "id": "9dade0fc",
   "metadata": {},
   "outputs": [
    {
     "name": "stdout",
     "output_type": "stream",
     "text": [
      "['neg' 'neg' 'neg' 'neg']\n"
     ]
    }
   ],
   "source": [
    "y_pred=classifier.predict(Test_X_Tfidf)\n",
    "print(y_pred)"
   ]
  },
  {
   "cell_type": "code",
   "execution_count": 11,
   "id": "db6d2066",
   "metadata": {},
   "outputs": [
    {
     "name": "stdout",
     "output_type": "stream",
     "text": [
      "[[2 0]\n",
      " [2 0]]\n"
     ]
    }
   ],
   "source": [
    "#Creating confusion matrix\n",
    "\n",
    "from sklearn.metrics import confusion_matrix\n",
    "cm=confusion_matrix(y_test,y_pred)\n",
    "print(cm)"
   ]
  },
  {
   "cell_type": "code",
   "execution_count": 12,
   "id": "80f32337",
   "metadata": {},
   "outputs": [
    {
     "data": {
      "text/plain": [
       "<sklearn.metrics._plot.confusion_matrix.ConfusionMatrixDisplay at 0x1e34f904340>"
      ]
     },
     "execution_count": 12,
     "metadata": {},
     "output_type": "execute_result"
    },
    {
     "data": {
      "image/png": "[encoded data removed]",
      "text/plain": [
       "<Figure size 432x288 with 2 Axes>"
      ]
     },
     "metadata": {
      "needs_background": "light"
     },
     "output_type": "display_data"
    }
   ],
   "source": [
    "##Confusion matrix display\n",
    "\n",
    "from sklearn.metrics import ConfusionMatrixDisplay\n",
    "disp=ConfusionMatrixDisplay(confusion_matrix=cm,display_labels=classifier.classes_)\n",
    "disp.plot()"
   ]
  },
  {
   "cell_type": "code",
   "execution_count": 13,
   "id": "b21f7480",
   "metadata": {},
   "outputs": [
    {
     "name": "stdout",
     "output_type": "stream",
     "text": [
      "1.0\n",
      "0.5\n"
     ]
    }
   ],
   "source": [
    "training_score=classifier.score(Train_X_Tfidf,y_train)\n",
    "test_score=classifier.score(Test_X_Tfidf,y_test)\n",
    "print(training_score)\n",
    "print(test_score)"
   ]
  },
  {
   "cell_type": "code",
   "execution_count": 15,
   "id": "d06b7e23",
   "metadata": {},
   "outputs": [
    {
     "name": "stdout",
     "output_type": "stream",
     "text": [
      "Accuracy score: 0.5\n",
      "Precision score: 0.5\n",
      "Recall score: 1.0\n",
      "F1 score: 0.6666666666666666\n"
     ]
    }
   ],
   "source": [
    "from sklearn.metrics import accuracy_score,precision_score,recall_score,f1_score\n",
    "print('Accuracy score: {}'.format(accuracy_score(y_test,y_pred)))\n",
    "print('Precision score: {}'.format(precision_score(y_test,y_pred,pos_label='neg')))\n",
    "print('Recall score: {}'.format(recall_score(y_test,y_pred,pos_label='neg')))\n",
    "print('F1 score: {}'.format(f1_score(y_test,y_pred,pos_label='neg')))"
   ]
  },
  {
   "cell_type": "code",
   "execution_count": null,
   "id": "3fcc898d",
   "metadata": {},
   "outputs": [],
   "source": []
  }
 ],
 "metadata": {
  "kernelspec": {
   "display_name": "Python 3 (ipykernel)",
   "language": "python",
   "name": "python3"
  },
  "language_info": {
   "codemirror_mode": {
    "name": "ipython",
    "version": 3
   },
   "file_extension": ".py",
   "mimetype": "text/x-python",
   "name": "python",
   "nbconvert_exporter": "python",
   "pygments_lexer": "ipython3",
   "version": "3.8.12"
  }
 },
 "nbformat": 4,
 "nbformat_minor": 5
}
