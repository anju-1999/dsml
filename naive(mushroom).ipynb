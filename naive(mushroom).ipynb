{
 "cells": [
  {
   "cell_type": "code",
   "execution_count": 1,
   "id": "bc45dfc5",
   "metadata": {},
   "outputs": [],
   "source": [
    "import pandas as pd\n",
    "import numpy as np\n",
    "import matplotlib.pyplot as plt"
   ]
  },
  {
   "cell_type": "code",
   "execution_count": 2,
   "id": "9fc1bc56",
   "metadata": {},
   "outputs": [
    {
     "name": "stdout",
     "output_type": "stream",
     "text": [
      "     class cap-shape cap-surface cap-color bruises odor gill-attachment  \\\n",
      "0        p         x           s         n       t    p               f   \n",
      "1        e         x           s         y       t    a               f   \n",
      "2        e         b           s         w       t    l               f   \n",
      "3        p         x           y         w       t    p               f   \n",
      "4        e         x           s         g       f    n               f   \n",
      "...    ...       ...         ...       ...     ...  ...             ...   \n",
      "8119     e         k           s         n       f    n               a   \n",
      "8120     e         x           s         n       f    n               a   \n",
      "8121     e         f           s         n       f    n               a   \n",
      "8122     p         k           y         n       f    y               f   \n",
      "8123     e         x           s         n       f    n               a   \n",
      "\n",
      "     gill-spacing gill-size gill-color  ... stalk-surface-below-ring  \\\n",
      "0               c         n          k  ...                        s   \n",
      "1               c         b          k  ...                        s   \n",
      "2               c         b          n  ...                        s   \n",
      "3               c         n          n  ...                        s   \n",
      "4               w         b          k  ...                        s   \n",
      "...           ...       ...        ...  ...                      ...   \n",
      "8119            c         b          y  ...                        s   \n",
      "8120            c         b          y  ...                        s   \n",
      "8121            c         b          n  ...                        s   \n",
      "8122            c         n          b  ...                        k   \n",
      "8123            c         b          y  ...                        s   \n",
      "\n",
      "     stalk-color-above-ring stalk-color-below-ring veil-type veil-color  \\\n",
      "0                         w                      w         p          w   \n",
      "1                         w                      w         p          w   \n",
      "2                         w                      w         p          w   \n",
      "3                         w                      w         p          w   \n",
      "4                         w                      w         p          w   \n",
      "...                     ...                    ...       ...        ...   \n",
      "8119                      o                      o         p          o   \n",
      "8120                      o                      o         p          n   \n",
      "8121                      o                      o         p          o   \n",
      "8122                      w                      w         p          w   \n",
      "8123                      o                      o         p          o   \n",
      "\n",
      "     ring-number ring-type spore-print-color population habitat  \n",
      "0              o         p                 k          s       u  \n",
      "1              o         p                 n          n       g  \n",
      "2              o         p                 n          n       m  \n",
      "3              o         p                 k          s       u  \n",
      "4              o         e                 n          a       g  \n",
      "...          ...       ...               ...        ...     ...  \n",
      "8119           o         p                 b          c       l  \n",
      "8120           o         p                 b          v       l  \n",
      "8121           o         p                 b          c       l  \n",
      "8122           o         e                 w          v       l  \n",
      "8123           o         p                 o          c       l  \n",
      "\n",
      "[8124 rows x 23 columns]\n"
     ]
    }
   ],
   "source": [
    "df=pd.read_csv(\"mushrooms.csv\")\n",
    "print(df)"
   ]
  },
  {
   "cell_type": "code",
   "execution_count": 3,
   "id": "a7ef3ae9",
   "metadata": {},
   "outputs": [
    {
     "data": {
      "text/plain": [
       "(8124, 23)"
      ]
     },
     "execution_count": 3,
     "metadata": {},
     "output_type": "execute_result"
    }
   ],
   "source": [
    "df.shape"
   ]
  },
  {
   "cell_type": "code",
   "execution_count": 4,
   "id": "a3592f95",
   "metadata": {},
   "outputs": [
    {
     "data": {
      "text/plain": [
       "pandas.core.frame.DataFrame"
      ]
     },
     "execution_count": 4,
     "metadata": {},
     "output_type": "execute_result"
    }
   ],
   "source": [
    "type(df)"
   ]
  },
  {
   "cell_type": "code",
   "execution_count": 5,
   "id": "0d9f143e",
   "metadata": {},
   "outputs": [
    {
     "data": {
      "text/plain": [
       "class\n",
       "e    4208\n",
       "p    3916\n",
       "dtype: int64"
      ]
     },
     "execution_count": 5,
     "metadata": {},
     "output_type": "execute_result"
    }
   ],
   "source": [
    "df.value_counts('class')"
   ]
  },
  {
   "cell_type": "code",
   "execution_count": null,
   "id": "b54985bc",
   "metadata": {},
   "outputs": [],
   "source": []
  },
  {
   "cell_type": "code",
   "execution_count": null,
   "id": "08e93f58",
   "metadata": {},
   "outputs": [],
   "source": []
  },
  {
   "cell_type": "code",
   "execution_count": 6,
   "id": "0c5464c7",
   "metadata": {},
   "outputs": [],
   "source": [
    "x=df"
   ]
  },
  {
   "cell_type": "code",
   "execution_count": 7,
   "id": "7c8671fc",
   "metadata": {},
   "outputs": [],
   "source": [
    "from sklearn.preprocessing import LabelEncoder\n",
    "\n",
    "l=LabelEncoder()\n",
    "x['cap-shape']=l.fit_transform(x['cap-shape'])\n",
    "x['cap-color']=l.fit_transform(x['cap-color'])\n",
    "x['bruises']=l.fit_transform(x['bruises'])\n",
    "x['odor']=l.fit_transform(x['odor'])\n",
    "x['gill-attachment']=l.fit_transform(x['gill-attachment'])\n",
    "x['gill-size']=l.fit_transform(x['gill-size'])\n",
    "x['gill-color']=l.fit_transform(x['gill-color'])\n",
    "x['stalk-shape']=l.fit_transform(x['stalk-shape'])\n",
    "x['population']=l.fit_transform(x['population'])\n",
    "x['veil-color']=l.fit_transform(x['veil-color'])\n",
    "x['ring-type']=l.fit_transform(x['ring-type'])\n",
    "x['spore-print-color']=l.fit_transform(x['spore-print-color'])\n",
    "x['habitat']=l.fit_transform(x['habitat'])\n",
    "x['class']=l.fit_transform(x['class'])\n",
    "x['stalk-color-below-ring']=l.fit_transform(x['stalk-color-below-ring'])\n",
    "x['cap-surface']=l.fit_transform(x['cap-surface'])\n",
    "x['stalk-surface-below-ring']=l.fit_transform(x['stalk-surface-below-ring'])\n",
    "x['stalk-surface-above-ring']=l.fit_transform(x['stalk-surface-above-ring'])\n",
    "x['gill-spacing']=l.fit_transform(x['gill-spacing'])\n",
    "\n"
   ]
  },
  {
   "cell_type": "code",
   "execution_count": 8,
   "id": "c2002680",
   "metadata": {},
   "outputs": [
    {
     "name": "stdout",
     "output_type": "stream",
     "text": [
      "0       1\n",
      "1       0\n",
      "2       0\n",
      "3       1\n",
      "4       0\n",
      "       ..\n",
      "8119    0\n",
      "8120    0\n",
      "8121    0\n",
      "8122    1\n",
      "8123    0\n",
      "Name: class, Length: 8124, dtype: int32\n"
     ]
    }
   ],
   "source": [
    "y=df[\"class\"]\n",
    "print(y)"
   ]
  },
  {
   "cell_type": "code",
   "execution_count": 9,
   "id": "e8da3a90",
   "metadata": {},
   "outputs": [
    {
     "name": "stdout",
     "output_type": "stream",
     "text": [
      "      cap-shape  cap-surface  cap-color  bruises  odor  gill-attachment  \\\n",
      "0             5            2          4        1     6                1   \n",
      "1             5            2          9        1     0                1   \n",
      "2             0            2          8        1     3                1   \n",
      "3             5            3          8        1     6                1   \n",
      "4             5            2          3        0     5                1   \n",
      "...         ...          ...        ...      ...   ...              ...   \n",
      "8119          3            2          4        0     5                0   \n",
      "8120          5            2          4        0     5                0   \n",
      "8121          2            2          4        0     5                0   \n",
      "8122          3            3          4        0     8                1   \n",
      "8123          5            2          4        0     5                0   \n",
      "\n",
      "      gill-spacing  gill-size  gill-color  stalk-shape  \\\n",
      "0                0          1           4            0   \n",
      "1                0          0           4            0   \n",
      "2                0          0           5            0   \n",
      "3                0          1           5            0   \n",
      "4                1          0           4            1   \n",
      "...            ...        ...         ...          ...   \n",
      "8119             0          0          11            0   \n",
      "8120             0          0          11            0   \n",
      "8121             0          0           5            0   \n",
      "8122             0          1           0            1   \n",
      "8123             0          0          11            0   \n",
      "\n",
      "      stalk-surface-above-ring  stalk-surface-below-ring  \\\n",
      "0                            2                         2   \n",
      "1                            2                         2   \n",
      "2                            2                         2   \n",
      "3                            2                         2   \n",
      "4                            2                         2   \n",
      "...                        ...                       ...   \n",
      "8119                         2                         2   \n",
      "8120                         2                         2   \n",
      "8121                         2                         2   \n",
      "8122                         2                         1   \n",
      "8123                         2                         2   \n",
      "\n",
      "      stalk-color-below-ring  veil-color  ring-type  spore-print-color  \\\n",
      "0                          7           2          4                  2   \n",
      "1                          7           2          4                  3   \n",
      "2                          7           2          4                  3   \n",
      "3                          7           2          4                  2   \n",
      "4                          7           2          0                  3   \n",
      "...                      ...         ...        ...                ...   \n",
      "8119                       5           1          4                  0   \n",
      "8120                       5           0          4                  0   \n",
      "8121                       5           1          4                  0   \n",
      "8122                       7           2          0                  7   \n",
      "8123                       5           1          4                  4   \n",
      "\n",
      "      population  habitat  \n",
      "0              3        5  \n",
      "1              2        1  \n",
      "2              2        3  \n",
      "3              3        5  \n",
      "4              0        1  \n",
      "...          ...      ...  \n",
      "8119           1        2  \n",
      "8120           4        2  \n",
      "8121           1        2  \n",
      "8122           4        2  \n",
      "8123           1        2  \n",
      "\n",
      "[8124 rows x 18 columns]\n"
     ]
    }
   ],
   "source": [
    "df.drop(\"class\",axis=1,inplace=True)\n",
    "df.drop(\"stalk-root\",axis=1,inplace=True)\n",
    "df.drop(\"stalk-color-above-ring\",axis=1,inplace=True)\n",
    "df.drop(\"ring-number\",axis=1,inplace=True)\n",
    "df.drop(\"veil-type\",axis=1,inplace=True)\n",
    "x=df\n",
    "print(df)"
   ]
  },
  {
   "cell_type": "code",
   "execution_count": 10,
   "id": "f6e4d6be",
   "metadata": {},
   "outputs": [
    {
     "name": "stdout",
     "output_type": "stream",
     "text": [
      "      cap-shape  cap-surface  cap-color  bruises  odor  gill-attachment  \\\n",
      "0             5            2          4        1     6                1   \n",
      "1             5            2          9        1     0                1   \n",
      "2             0            2          8        1     3                1   \n",
      "3             5            3          8        1     6                1   \n",
      "4             5            2          3        0     5                1   \n",
      "...         ...          ...        ...      ...   ...              ...   \n",
      "8119          3            2          4        0     5                0   \n",
      "8120          5            2          4        0     5                0   \n",
      "8121          2            2          4        0     5                0   \n",
      "8122          3            3          4        0     8                1   \n",
      "8123          5            2          4        0     5                0   \n",
      "\n",
      "      gill-spacing  gill-size  gill-color  stalk-shape  \\\n",
      "0                0          1           4            0   \n",
      "1                0          0           4            0   \n",
      "2                0          0           5            0   \n",
      "3                0          1           5            0   \n",
      "4                1          0           4            1   \n",
      "...            ...        ...         ...          ...   \n",
      "8119             0          0          11            0   \n",
      "8120             0          0          11            0   \n",
      "8121             0          0           5            0   \n",
      "8122             0          1           0            1   \n",
      "8123             0          0          11            0   \n",
      "\n",
      "      stalk-surface-above-ring  stalk-surface-below-ring  \\\n",
      "0                            2                         2   \n",
      "1                            2                         2   \n",
      "2                            2                         2   \n",
      "3                            2                         2   \n",
      "4                            2                         2   \n",
      "...                        ...                       ...   \n",
      "8119                         2                         2   \n",
      "8120                         2                         2   \n",
      "8121                         2                         2   \n",
      "8122                         2                         1   \n",
      "8123                         2                         2   \n",
      "\n",
      "      stalk-color-below-ring  veil-color  ring-type  spore-print-color  \\\n",
      "0                          7           2          4                  2   \n",
      "1                          7           2          4                  3   \n",
      "2                          7           2          4                  3   \n",
      "3                          7           2          4                  2   \n",
      "4                          7           2          0                  3   \n",
      "...                      ...         ...        ...                ...   \n",
      "8119                       5           1          4                  0   \n",
      "8120                       5           0          4                  0   \n",
      "8121                       5           1          4                  0   \n",
      "8122                       7           2          0                  7   \n",
      "8123                       5           1          4                  4   \n",
      "\n",
      "      population  habitat  \n",
      "0              3        5  \n",
      "1              2        1  \n",
      "2              2        3  \n",
      "3              3        5  \n",
      "4              0        1  \n",
      "...          ...      ...  \n",
      "8119           1        2  \n",
      "8120           4        2  \n",
      "8121           1        2  \n",
      "8122           4        2  \n",
      "8123           1        2  \n",
      "\n",
      "[8124 rows x 18 columns]\n"
     ]
    }
   ],
   "source": [
    "print(x)"
   ]
  },
  {
   "cell_type": "code",
   "execution_count": 11,
   "id": "e3e3486d",
   "metadata": {},
   "outputs": [],
   "source": [
    "x.to_csv(\"new.csv\")"
   ]
  },
  {
   "cell_type": "code",
   "execution_count": 12,
   "id": "b4f6b024",
   "metadata": {},
   "outputs": [
    {
     "name": "stdout",
     "output_type": "stream",
     "text": [
      "0       1\n",
      "1       0\n",
      "2       0\n",
      "3       1\n",
      "4       0\n",
      "       ..\n",
      "8119    0\n",
      "8120    0\n",
      "8121    0\n",
      "8122    1\n",
      "8123    0\n",
      "Name: class, Length: 8124, dtype: int32\n"
     ]
    }
   ],
   "source": [
    "print(y)"
   ]
  },
  {
   "cell_type": "code",
   "execution_count": 13,
   "id": "6c1b5a84",
   "metadata": {},
   "outputs": [],
   "source": [
    "from sklearn.model_selection import train_test_split\n",
    "\n",
    "x_tr,x_tes,y_tr,y_tes=train_test_split(x,y,test_size=.30,random_state=0)"
   ]
  },
  {
   "cell_type": "code",
   "execution_count": 14,
   "id": "fa4952d8",
   "metadata": {},
   "outputs": [],
   "source": [
    "from sklearn.naive_bayes import GaussianNB"
   ]
  },
  {
   "cell_type": "code",
   "execution_count": 15,
   "id": "8d6a6521",
   "metadata": {},
   "outputs": [
    {
     "data": {
      "text/plain": [
       "GaussianNB()"
      ]
     },
     "execution_count": 15,
     "metadata": {},
     "output_type": "execute_result"
    }
   ],
   "source": [
    "c=GaussianNB()\n",
    "c.fit(x_tr,y_tr)\n"
   ]
  },
  {
   "cell_type": "code",
   "execution_count": 16,
   "id": "9f281c20",
   "metadata": {},
   "outputs": [
    {
     "name": "stdout",
     "output_type": "stream",
     "text": [
      "[1 0 0 ... 1 1 1]\n"
     ]
    }
   ],
   "source": [
    "y_pr=c.predict(x_tes)\n",
    "print(y_pr)"
   ]
  },
  {
   "cell_type": "code",
   "execution_count": 17,
   "id": "29035dee",
   "metadata": {},
   "outputs": [
    {
     "name": "stdout",
     "output_type": "stream",
     "text": [
      "0.9294503691550451\n",
      "0.9294503691550451\n"
     ]
    }
   ],
   "source": [
    "tr_score=c.score(x_tes,y_tes)\n",
    "print(tr_score)\n",
    "tes_score=c.score(x_tes,y_tes)\n",
    "print(tes_score)"
   ]
  },
  {
   "cell_type": "code",
   "execution_count": 18,
   "id": "b343d819",
   "metadata": {},
   "outputs": [
    {
     "name": "stdout",
     "output_type": "stream",
     "text": [
      "[[1199   73]\n",
      " [  99 1067]]\n"
     ]
    }
   ],
   "source": [
    "from sklearn.metrics import confusion_matrix\n",
    "cm=confusion_matrix(y_tes,y_pr,labels=c.classes_)\n",
    "print(cm)"
   ]
  },
  {
   "cell_type": "code",
   "execution_count": 19,
   "id": "fc89f33a",
   "metadata": {},
   "outputs": [
    {
     "data": {
      "text/plain": [
       "<sklearn.metrics._plot.confusion_matrix.ConfusionMatrixDisplay at 0x1fc07953c10>"
      ]
     },
     "execution_count": 19,
     "metadata": {},
     "output_type": "execute_result"
    },
    {
     "data": {
      "image/png": "[encoded data removed]",
      "text/plain": [
       "<Figure size 432x288 with 2 Axes>"
      ]
     },
     "metadata": {
      "needs_background": "light"
     },
     "output_type": "display_data"
    }
   ],
   "source": [
    "from sklearn.metrics import ConfusionMatrixDisplay\n",
    "disp = ConfusionMatrixDisplay(confusion_matrix=cm,\n",
    "                              display_labels=c.classes_)\n",
    "disp.plot()"
   ]
  },
  {
   "cell_type": "code",
   "execution_count": 21,
   "id": "5c7c7743",
   "metadata": {},
   "outputs": [
    {
     "name": "stdout",
     "output_type": "stream",
     "text": [
      "Accuracy score: 0.9294503691550451\n",
      "Precision score: 0.923728813559322\n",
      "Recall score: 0.9426100628930818\n",
      "F1 score: 0.9330739299610895\n"
     ]
    }
   ],
   "source": [
    "from sklearn.metrics import accuracy_score,precision_score,recall_score,f1_score\n",
    "print('Accuracy score: {}'.format(accuracy_score(y_tes,y_pr)))\n",
    "print('Precision score: {}'.format(precision_score(y_tes,y_pr,pos_label=0)))\n",
    "print('Recall score: {}'.format(recall_score(y_tes,y_pr,pos_label=0)))\n",
    "print('F1 score: {}'.format(f1_score(y_tes,y_pr,pos_label=0)))"
   ]
  },
  {
   "cell_type": "code",
   "execution_count": null,
   "id": "1a3d3293",
   "metadata": {},
   "outputs": [],
   "source": []
  }
 ],
 "metadata": {
  "kernelspec": {
   "display_name": "Python 3 (ipykernel)",
   "language": "python",
   "name": "python3"
  },
  "language_info": {
   "codemirror_mode": {
    "name": "ipython",
    "version": 3
   },
   "file_extension": ".py",
   "mimetype": "text/x-python",
   "name": "python",
   "nbconvert_exporter": "python",
   "pygments_lexer": "ipython3",
   "version": "3.8.12"
  }
 },
 "nbformat": 4,
 "nbformat_minor": 5
}
