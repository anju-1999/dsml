{
 "cells": [
  {
   "cell_type": "code",
   "execution_count": 1,
   "id": "70eaafbc",
   "metadata": {},
   "outputs": [],
   "source": [
    "import pandas as pd\n",
    "import numpy as np\n",
    "import matplotlib.pyplot as plt"
   ]
  },
  {
   "cell_type": "code",
   "execution_count": 2,
   "id": "2b06e945",
   "metadata": {},
   "outputs": [
    {
     "name": "stdout",
     "output_type": "stream",
     "text": [
      "     class cap-shape cap-surface cap-color bruises odor gill-attachment  \\\n",
      "0        p         x           s         n       t    p               f   \n",
      "1        e         x           s         y       t    a               f   \n",
      "2        e         b           s         w       t    l               f   \n",
      "3        p         x           y         w       t    p               f   \n",
      "4        e         x           s         g       f    n               f   \n",
      "...    ...       ...         ...       ...     ...  ...             ...   \n",
      "8119     e         k           s         n       f    n               a   \n",
      "8120     e         x           s         n       f    n               a   \n",
      "8121     e         f           s         n       f    n               a   \n",
      "8122     p         k           y         n       f    y               f   \n",
      "8123     e         x           s         n       f    n               a   \n",
      "\n",
      "     gill-spacing gill-size gill-color  ... stalk-surface-below-ring  \\\n",
      "0               c         n          k  ...                        s   \n",
      "1               c         b          k  ...                        s   \n",
      "2               c         b          n  ...                        s   \n",
      "3               c         n          n  ...                        s   \n",
      "4               w         b          k  ...                        s   \n",
      "...           ...       ...        ...  ...                      ...   \n",
      "8119            c         b          y  ...                        s   \n",
      "8120            c         b          y  ...                        s   \n",
      "8121            c         b          n  ...                        s   \n",
      "8122            c         n          b  ...                        k   \n",
      "8123            c         b          y  ...                        s   \n",
      "\n",
      "     stalk-color-above-ring stalk-color-below-ring veil-type veil-color  \\\n",
      "0                         w                      w         p          w   \n",
      "1                         w                      w         p          w   \n",
      "2                         w                      w         p          w   \n",
      "3                         w                      w         p          w   \n",
      "4                         w                      w         p          w   \n",
      "...                     ...                    ...       ...        ...   \n",
      "8119                      o                      o         p          o   \n",
      "8120                      o                      o         p          n   \n",
      "8121                      o                      o         p          o   \n",
      "8122                      w                      w         p          w   \n",
      "8123                      o                      o         p          o   \n",
      "\n",
      "     ring-number ring-type spore-print-color population habitat  \n",
      "0              o         p                 k          s       u  \n",
      "1              o         p                 n          n       g  \n",
      "2              o         p                 n          n       m  \n",
      "3              o         p                 k          s       u  \n",
      "4              o         e                 n          a       g  \n",
      "...          ...       ...               ...        ...     ...  \n",
      "8119           o         p                 b          c       l  \n",
      "8120           o         p                 b          v       l  \n",
      "8121           o         p                 b          c       l  \n",
      "8122           o         e                 w          v       l  \n",
      "8123           o         p                 o          c       l  \n",
      "\n",
      "[8124 rows x 23 columns]\n"
     ]
    }
   ],
   "source": [
    "df=pd.read_csv(\"mushrooms.csv\")\n",
    "print(df)"
   ]
  },
  {
   "cell_type": "code",
   "execution_count": 3,
   "id": "6f963edd",
   "metadata": {},
   "outputs": [],
   "source": [
    "x=df"
   ]
  },
  {
   "cell_type": "code",
   "execution_count": 4,
   "id": "330d3f18",
   "metadata": {},
   "outputs": [],
   "source": [
    "from sklearn.preprocessing import LabelEncoder\n",
    "\n",
    "l=LabelEncoder()\n",
    "x['cap-shape']=l.fit_transform(x['cap-shape'])\n",
    "x['cap-color']=l.fit_transform(x['cap-color'])\n",
    "x['bruises']=l.fit_transform(x['bruises'])\n",
    "x['odor']=l.fit_transform(x['odor'])\n",
    "x['gill-attachment']=l.fit_transform(x['gill-attachment'])\n",
    "x['gill-size']=l.fit_transform(x['gill-size'])\n",
    "x['gill-color']=l.fit_transform(x['gill-color'])\n",
    "x['stalk-shape']=l.fit_transform(x['stalk-shape'])\n",
    "x['population']=l.fit_transform(x['population'])\n",
    "x['veil-color']=l.fit_transform(x['veil-color'])\n",
    "x['ring-type']=l.fit_transform(x['ring-type'])\n",
    "x['spore-print-color']=l.fit_transform(x['spore-print-color'])\n",
    "x['habitat']=l.fit_transform(x['habitat'])\n",
    "x['class']=l.fit_transform(x['class'])\n",
    "x['stalk-color-below-ring']=l.fit_transform(x['stalk-color-below-ring'])\n",
    "x['cap-surface']=l.fit_transform(x['cap-surface'])\n",
    "x['stalk-surface-below-ring']=l.fit_transform(x['stalk-surface-below-ring'])\n",
    "x['stalk-surface-above-ring']=l.fit_transform(x['stalk-surface-above-ring'])\n",
    "x['gill-spacing']=l.fit_transform(x['gill-spacing'])\n",
    "\n"
   ]
  },
  {
   "cell_type": "code",
   "execution_count": 5,
   "id": "71b83d46",
   "metadata": {},
   "outputs": [
    {
     "name": "stdout",
     "output_type": "stream",
     "text": [
      "0       1\n",
      "1       0\n",
      "2       0\n",
      "3       1\n",
      "4       0\n",
      "       ..\n",
      "8119    0\n",
      "8120    0\n",
      "8121    0\n",
      "8122    1\n",
      "8123    0\n",
      "Name: class, Length: 8124, dtype: int32\n"
     ]
    }
   ],
   "source": [
    "y=df[\"class\"]\n",
    "print(y)"
   ]
  },
  {
   "cell_type": "code",
   "execution_count": 6,
   "id": "da2d4e7a",
   "metadata": {},
   "outputs": [
    {
     "name": "stdout",
     "output_type": "stream",
     "text": [
      "      cap-shape  cap-surface  cap-color  bruises  odor  gill-attachment  \\\n",
      "0             5            2          4        1     6                1   \n",
      "1             5            2          9        1     0                1   \n",
      "2             0            2          8        1     3                1   \n",
      "3             5            3          8        1     6                1   \n",
      "4             5            2          3        0     5                1   \n",
      "...         ...          ...        ...      ...   ...              ...   \n",
      "8119          3            2          4        0     5                0   \n",
      "8120          5            2          4        0     5                0   \n",
      "8121          2            2          4        0     5                0   \n",
      "8122          3            3          4        0     8                1   \n",
      "8123          5            2          4        0     5                0   \n",
      "\n",
      "      gill-spacing  gill-size  gill-color  stalk-shape  \\\n",
      "0                0          1           4            0   \n",
      "1                0          0           4            0   \n",
      "2                0          0           5            0   \n",
      "3                0          1           5            0   \n",
      "4                1          0           4            1   \n",
      "...            ...        ...         ...          ...   \n",
      "8119             0          0          11            0   \n",
      "8120             0          0          11            0   \n",
      "8121             0          0           5            0   \n",
      "8122             0          1           0            1   \n",
      "8123             0          0          11            0   \n",
      "\n",
      "      stalk-surface-above-ring  stalk-surface-below-ring  \\\n",
      "0                            2                         2   \n",
      "1                            2                         2   \n",
      "2                            2                         2   \n",
      "3                            2                         2   \n",
      "4                            2                         2   \n",
      "...                        ...                       ...   \n",
      "8119                         2                         2   \n",
      "8120                         2                         2   \n",
      "8121                         2                         2   \n",
      "8122                         2                         1   \n",
      "8123                         2                         2   \n",
      "\n",
      "      stalk-color-below-ring  veil-color  ring-type  spore-print-color  \\\n",
      "0                          7           2          4                  2   \n",
      "1                          7           2          4                  3   \n",
      "2                          7           2          4                  3   \n",
      "3                          7           2          4                  2   \n",
      "4                          7           2          0                  3   \n",
      "...                      ...         ...        ...                ...   \n",
      "8119                       5           1          4                  0   \n",
      "8120                       5           0          4                  0   \n",
      "8121                       5           1          4                  0   \n",
      "8122                       7           2          0                  7   \n",
      "8123                       5           1          4                  4   \n",
      "\n",
      "      population  habitat  \n",
      "0              3        5  \n",
      "1              2        1  \n",
      "2              2        3  \n",
      "3              3        5  \n",
      "4              0        1  \n",
      "...          ...      ...  \n",
      "8119           1        2  \n",
      "8120           4        2  \n",
      "8121           1        2  \n",
      "8122           4        2  \n",
      "8123           1        2  \n",
      "\n",
      "[8124 rows x 18 columns]\n"
     ]
    }
   ],
   "source": [
    "df.drop(\"class\",axis=1,inplace=True)\n",
    "df.drop(\"stalk-root\",axis=1,inplace=True)\n",
    "df.drop(\"stalk-color-above-ring\",axis=1,inplace=True)\n",
    "df.drop(\"ring-number\",axis=1,inplace=True)\n",
    "df.drop(\"veil-type\",axis=1,inplace=True)\n",
    "x=df\n",
    "print(df)"
   ]
  },
  {
   "cell_type": "code",
   "execution_count": 7,
   "id": "94183eb8",
   "metadata": {},
   "outputs": [
    {
     "name": "stdout",
     "output_type": "stream",
     "text": [
      "      cap-shape  cap-surface  cap-color  bruises  odor  gill-attachment  \\\n",
      "0             5            2          4        1     6                1   \n",
      "1             5            2          9        1     0                1   \n",
      "2             0            2          8        1     3                1   \n",
      "3             5            3          8        1     6                1   \n",
      "4             5            2          3        0     5                1   \n",
      "...         ...          ...        ...      ...   ...              ...   \n",
      "8119          3            2          4        0     5                0   \n",
      "8120          5            2          4        0     5                0   \n",
      "8121          2            2          4        0     5                0   \n",
      "8122          3            3          4        0     8                1   \n",
      "8123          5            2          4        0     5                0   \n",
      "\n",
      "      gill-spacing  gill-size  gill-color  stalk-shape  \\\n",
      "0                0          1           4            0   \n",
      "1                0          0           4            0   \n",
      "2                0          0           5            0   \n",
      "3                0          1           5            0   \n",
      "4                1          0           4            1   \n",
      "...            ...        ...         ...          ...   \n",
      "8119             0          0          11            0   \n",
      "8120             0          0          11            0   \n",
      "8121             0          0           5            0   \n",
      "8122             0          1           0            1   \n",
      "8123             0          0          11            0   \n",
      "\n",
      "      stalk-surface-above-ring  stalk-surface-below-ring  \\\n",
      "0                            2                         2   \n",
      "1                            2                         2   \n",
      "2                            2                         2   \n",
      "3                            2                         2   \n",
      "4                            2                         2   \n",
      "...                        ...                       ...   \n",
      "8119                         2                         2   \n",
      "8120                         2                         2   \n",
      "8121                         2                         2   \n",
      "8122                         2                         1   \n",
      "8123                         2                         2   \n",
      "\n",
      "      stalk-color-below-ring  veil-color  ring-type  spore-print-color  \\\n",
      "0                          7           2          4                  2   \n",
      "1                          7           2          4                  3   \n",
      "2                          7           2          4                  3   \n",
      "3                          7           2          4                  2   \n",
      "4                          7           2          0                  3   \n",
      "...                      ...         ...        ...                ...   \n",
      "8119                       5           1          4                  0   \n",
      "8120                       5           0          4                  0   \n",
      "8121                       5           1          4                  0   \n",
      "8122                       7           2          0                  7   \n",
      "8123                       5           1          4                  4   \n",
      "\n",
      "      population  habitat  \n",
      "0              3        5  \n",
      "1              2        1  \n",
      "2              2        3  \n",
      "3              3        5  \n",
      "4              0        1  \n",
      "...          ...      ...  \n",
      "8119           1        2  \n",
      "8120           4        2  \n",
      "8121           1        2  \n",
      "8122           4        2  \n",
      "8123           1        2  \n",
      "\n",
      "[8124 rows x 18 columns]\n"
     ]
    }
   ],
   "source": [
    "print(x)"
   ]
  },
  {
   "cell_type": "code",
   "execution_count": 8,
   "id": "215bc6e1",
   "metadata": {},
   "outputs": [
    {
     "name": "stdout",
     "output_type": "stream",
     "text": [
      "0       1\n",
      "1       0\n",
      "2       0\n",
      "3       1\n",
      "4       0\n",
      "       ..\n",
      "8119    0\n",
      "8120    0\n",
      "8121    0\n",
      "8122    1\n",
      "8123    0\n",
      "Name: class, Length: 8124, dtype: int32\n"
     ]
    }
   ],
   "source": [
    "print(y)"
   ]
  },
  {
   "cell_type": "code",
   "execution_count": 10,
   "id": "12c69a84",
   "metadata": {},
   "outputs": [
    {
     "name": "stdout",
     "output_type": "stream",
     "text": [
      "(6093, 18)\n",
      "(2031, 18)\n"
     ]
    }
   ],
   "source": [
    "from sklearn.model_selection import train_test_split\n",
    "x_train,x_test,y_train,y_test=train_test_split(x ,y ,test_size=0.25 ,random_state=0)\n",
    "print(x_train.shape)\n",
    "print(x_test.shape)"
   ]
  },
  {
   "cell_type": "code",
   "execution_count": 11,
   "id": "f96e064d",
   "metadata": {},
   "outputs": [
    {
     "name": "stdout",
     "output_type": "stream",
     "text": [
      "[[0.4        1.         1.         ... 0.125      1.         0.16666667]\n",
      " [1.         1.         0.44444444 ... 0.375      1.         0.16666667]\n",
      " [0.4        0.66666667 0.33333333 ... 0.25       0.         0.16666667]\n",
      " ...\n",
      " [1.         0.66666667 0.33333333 ... 0.375      0.6        0.16666667]\n",
      " [0.4        0.         0.44444444 ... 0.375      0.8        0.        ]\n",
      " [1.         1.         0.33333333 ... 0.375      1.         0.        ]]\n"
     ]
    }
   ],
   "source": [
    "from sklearn.preprocessing import MinMaxScaler\n",
    "st_x=MinMaxScaler()\n",
    "x_train=st_x.fit_transform(x_train)\n",
    "x_test=st_x.fit_transform(x_test)\n",
    "print(x_train)"
   ]
  },
  {
   "cell_type": "code",
   "execution_count": 13,
   "id": "d4dc7bc4",
   "metadata": {},
   "outputs": [],
   "source": [
    "from sklearn.neural_network import MLPClassifier\n",
    "\n",
    "classifier=MLPClassifier(hidden_layer_sizes=(8,8,8),activation=\"relu\",solver=\"adam\",max_iter=500)\n",
    "classifier.fit(x_train,y_train)\n",
    "\n",
    "x_pred=classifier.predict(x_train)\n",
    "y_pred=classifier.predict(x_test)"
   ]
  },
  {
   "cell_type": "code",
   "execution_count": 14,
   "id": "633cf344",
   "metadata": {},
   "outputs": [
    {
     "name": "stdout",
     "output_type": "stream",
     "text": [
      "[1 0 0 ... 1 0 0]\n",
      "\n",
      "[1 0 0 ... 1 0 0]\n"
     ]
    }
   ],
   "source": [
    "print(y_test.values)\n",
    "print()\n",
    "print(y_pred)"
   ]
  },
  {
   "cell_type": "code",
   "execution_count": 15,
   "id": "2d396467",
   "metadata": {},
   "outputs": [
    {
     "name": "stdout",
     "output_type": "stream",
     "text": [
      "[[1061    0]\n",
      " [   0  970]]\n"
     ]
    }
   ],
   "source": [
    "from sklearn.metrics import confusion_matrix\n",
    "c=confusion_matrix(y_test,y_pred)\n",
    "print(c)"
   ]
  },
  {
   "cell_type": "code",
   "execution_count": 16,
   "id": "5dfad341",
   "metadata": {},
   "outputs": [
    {
     "name": "stdout",
     "output_type": "stream",
     "text": [
      "[[3147    0]\n",
      " [   0 2946]]\n"
     ]
    }
   ],
   "source": [
    "from sklearn.metrics import confusion_matrix\n",
    "c=confusion_matrix(y_train,x_pred)\n",
    "print(c)"
   ]
  },
  {
   "cell_type": "code",
   "execution_count": 17,
   "id": "794fd013",
   "metadata": {},
   "outputs": [
    {
     "data": {
      "text/plain": [
       "<sklearn.metrics._plot.confusion_matrix.ConfusionMatrixDisplay at 0x1982a276ca0>"
      ]
     },
     "execution_count": 17,
     "metadata": {},
     "output_type": "execute_result"
    },
    {
     "data": {
      "image/png": "[encoded data removed]",
      "text/plain": [
       "<Figure size 432x288 with 2 Axes>"
      ]
     },
     "metadata": {
      "needs_background": "light"
     },
     "output_type": "display_data"
    }
   ],
   "source": [
    "##Confusion Matrix Display\n",
    "\n",
    "from sklearn.metrics import ConfusionMatrixDisplay\n",
    "disp=ConfusionMatrixDisplay(confusion_matrix=c,display_labels=classifier.classes_)\n",
    "\n",
    "disp.plot()"
   ]
  },
  {
   "cell_type": "code",
   "execution_count": 18,
   "id": "7b2e22c2",
   "metadata": {},
   "outputs": [
    {
     "name": "stdout",
     "output_type": "stream",
     "text": [
      "Accuracy score: 1.0\n",
      "Precision score: 1.0\n",
      "Recall score: 1.0\n",
      "F1 score: 1.0\n"
     ]
    }
   ],
   "source": [
    "#Evaluationg our model\n",
    "\n",
    "from sklearn.metrics import accuracy_score, precision_score, recall_score, f1_score\n",
    "\n",
    "print('Accuracy score: {}'.format(accuracy_score(y_test, y_pred)))\n",
    "print('Precision score: {}'.format(precision_score(y_test, y_pred,pos_label=0)))\n",
    "print('Recall score: {}'.format(recall_score(y_test, y_pred,pos_label=0)))\n",
    "print('F1 score: {}'.format(f1_score(y_test, y_pred,pos_label=0)))\n"
   ]
  },
  {
   "cell_type": "code",
   "execution_count": null,
   "id": "71114bf2",
   "metadata": {},
   "outputs": [],
   "source": []
  }
 ],
 "metadata": {
  "kernelspec": {
   "display_name": "Python 3 (ipykernel)",
   "language": "python",
   "name": "python3"
  },
  "language_info": {
   "codemirror_mode": {
    "name": "ipython",
    "version": 3
   },
   "file_extension": ".py",
   "mimetype": "text/x-python",
   "name": "python",
   "nbconvert_exporter": "python",
   "pygments_lexer": "ipython3",
   "version": "3.8.12"
  }
 },
 "nbformat": 4,
 "nbformat_minor": 5
}
