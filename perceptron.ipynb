{
 "cells": [
  {
   "cell_type": "markdown",
   "id": "199171ed",
   "metadata": {},
   "source": [
    "Implementing AND gate using perceptron"
   ]
  },
  {
   "cell_type": "code",
   "execution_count": null,
   "id": "95139f53",
   "metadata": {},
   "outputs": [],
   "source": [
    "##importing perceptron \n",
    "from sklearn.linear_model import Perceptron\n",
    "\n",
    "\n",
    "##training data for AND\n",
    "x_train=[[0,0],[0,1],[1,0],[1,1]]\n",
    "y_train=[0,0,0,1]\n",
    "\n",
    "\n",
    "#model creation\n",
    "classifier=Perceptron(tol=1e-3,random_state=0)\n",
    "classifier.fit(x_train,y_train)"
   ]
  },
  {
   "cell_type": "code",
   "execution_count": 3,
   "id": "2ec66a5e",
   "metadata": {},
   "outputs": [],
   "source": [
    "#prediction\n",
    "y_pred=classifier.predict(x_train)"
   ]
  },
  {
   "cell_type": "code",
   "execution_count": 5,
   "id": "bc6bbc4f",
   "metadata": {},
   "outputs": [
    {
     "name": "stdout",
     "output_type": "stream",
     "text": [
      "[0 0 0 1]\n",
      "[[2. 2.]] [-2.]\n"
     ]
    }
   ],
   "source": [
    "print(y_pred)\n",
    "print(classifier.coef_,classifier.intercept_)"
   ]
  },
  {
   "cell_type": "code",
   "execution_count": null,
   "id": "3214c082",
   "metadata": {},
   "outputs": [],
   "source": []
  }
 ],
 "metadata": {
  "kernelspec": {
   "display_name": "Python 3 (ipykernel)",
   "language": "python",
   "name": "python3"
  },
  "language_info": {
   "codemirror_mode": {
    "name": "ipython",
    "version": 3
   },
   "file_extension": ".py",
   "mimetype": "text/x-python",
   "name": "python",
   "nbconvert_exporter": "python",
   "pygments_lexer": "ipython3",
   "version": "3.7.11"
  }
 },
 "nbformat": 4,
 "nbformat_minor": 5
}
