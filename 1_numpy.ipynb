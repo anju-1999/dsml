{
 "cells": [
  {
   "cell_type": "code",
   "execution_count": 1,
   "id": "59dcf242",
   "metadata": {},
   "outputs": [
    {
     "name": "stdout",
     "output_type": "stream",
     "text": [
      "Collecting pandas\n",
      "  Downloading pandas-1.3.4-cp37-cp37m-manylinux_2_17_x86_64.manylinux2014_x86_64.whl (11.3 MB)\n",
      "\u001b[K     |████████████████████████████████| 11.3 MB 8.1 MB/s eta 0:00:01    |██████▊                         | 2.4 MB 1.1 MB/s eta 0:00:09\n",
      "\u001b[?25hCollecting numpy>=1.17.3\n",
      "  Downloading numpy-1.21.4-cp37-cp37m-manylinux_2_12_x86_64.manylinux2010_x86_64.whl (15.7 MB)\n",
      "\u001b[K     |████████████████████████████████| 15.7 MB 7.8 MB/s eta 0:00:01\n",
      "\u001b[?25hCollecting pytz>=2017.3\n",
      "  Downloading pytz-2021.3-py2.py3-none-any.whl (503 kB)\n",
      "\u001b[K     |████████████████████████████████| 503 kB 6.3 MB/s eta 0:00:01\n",
      "\u001b[?25hRequirement already satisfied: python-dateutil>=2.7.3 in ./anaconda3/lib/python3.7/site-packages (from pandas) (2.8.2)\n",
      "Requirement already satisfied: six>=1.5 in ./anaconda3/lib/python3.7/site-packages (from python-dateutil>=2.7.3->pandas) (1.16.0)\n",
      "Installing collected packages: pytz, numpy, pandas\n",
      "\u001b[31mERROR: pip's dependency resolver does not currently take into account all the packages that are installed. This behaviour is the source of the following dependency conflicts.\n",
      "matplotlib 3.4.3 requires cycler>=0.10, which is not installed.\n",
      "matplotlib 3.4.3 requires kiwisolver>=1.0.1, which is not installed.\n",
      "matplotlib 3.4.3 requires pillow>=6.2.0, which is not installed.\n",
      "daal4py 2021.3.0 requires daal==2021.2.3, which is not installed.\n",
      "conda-repo-cli 1.0.4 requires clyent>=1.2.0, which is not installed.\n",
      "conda-repo-cli 1.0.4 requires pathlib, which is not installed.\n",
      "conda-repo-cli 1.0.4 requires PyYAML>=3.12, which is not installed.\n",
      "conda-build 3.21.6 requires beautifulsoup4, which is not installed.\n",
      "conda-build 3.21.6 requires chardet, which is not installed.\n",
      "conda-build 3.21.6 requires filelock, which is not installed.\n",
      "conda-build 3.21.6 requires pkginfo, which is not installed.\n",
      "conda-build 3.21.6 requires psutil, which is not installed.\n",
      "conda-build 3.21.6 requires pyyaml, which is not installed.\u001b[0m\n",
      "Successfully installed numpy-1.21.4 pandas-1.3.4 pytz-2021.3\n"
     ]
    }
   ],
   "source": [
    "!pip install pandas    ##to install pandas"
   ]
  },
  {
   "cell_type": "code",
   "execution_count": 2,
   "id": "0b677700",
   "metadata": {},
   "outputs": [
    {
     "name": "stdout",
     "output_type": "stream",
     "text": [
      "Requirement already satisfied: numpy in ./anaconda3/lib/python3.7/site-packages (1.21.4)\r\n"
     ]
    }
   ],
   "source": [
    "!pip install numpy     ##to install numpy\n"
   ]
  },
  {
   "cell_type": "code",
   "execution_count": 52,
   "id": "6a863a4e",
   "metadata": {},
   "outputs": [],
   "source": [
    "import numpy as np\n"
   ]
  },
  {
   "cell_type": "code",
   "execution_count": 19,
   "id": "acf5936a",
   "metadata": {},
   "outputs": [
    {
     "data": {
      "text/plain": [
       "4"
      ]
     },
     "execution_count": 19,
     "metadata": {},
     "output_type": "execute_result"
    }
   ],
   "source": [
    "a=np.array([1,2,3,4])\n",
    "a.size"
   ]
  },
  {
   "cell_type": "code",
   "execution_count": 6,
   "id": "66eb46e8",
   "metadata": {},
   "outputs": [
    {
     "name": "stdout",
     "output_type": "stream",
     "text": [
      "1.21.4\n"
     ]
    }
   ],
   "source": [
    "print(np.__version__)   ##print numpy version\n"
   ]
  },
  {
   "cell_type": "code",
   "execution_count": 6,
   "id": "7cb318e1",
   "metadata": {},
   "outputs": [
    {
     "name": "stdout",
     "output_type": "stream",
     "text": [
      "[1 2 3 4]\n"
     ]
    }
   ],
   "source": [
    "print(a)"
   ]
  },
  {
   "cell_type": "code",
   "execution_count": 20,
   "id": "9349ccda",
   "metadata": {},
   "outputs": [],
   "source": [
    "b=np.array([(1,2),(3,4)])"
   ]
  },
  {
   "cell_type": "code",
   "execution_count": 8,
   "id": "48536d27",
   "metadata": {},
   "outputs": [
    {
     "name": "stdout",
     "output_type": "stream",
     "text": [
      "[[1 2]\n",
      " [3 4]]\n"
     ]
    }
   ],
   "source": [
    "print(b)"
   ]
  },
  {
   "cell_type": "code",
   "execution_count": 21,
   "id": "3fc466a8",
   "metadata": {},
   "outputs": [
    {
     "name": "stdout",
     "output_type": "stream",
     "text": [
      "[[1 2 3]\n",
      " [4 5 6]]\n"
     ]
    }
   ],
   "source": [
    "c=np.array([[1,2,3],[4,5,6]])  ##matrix\n",
    "print(c)"
   ]
  },
  {
   "cell_type": "code",
   "execution_count": 22,
   "id": "bddac29a",
   "metadata": {},
   "outputs": [
    {
     "name": "stdout",
     "output_type": "stream",
     "text": [
      "<class 'numpy.ndarray'>\n"
     ]
    }
   ],
   "source": [
    "print((type(x)))"
   ]
  },
  {
   "cell_type": "code",
   "execution_count": 11,
   "id": "09816a95",
   "metadata": {},
   "outputs": [
    {
     "name": "stdout",
     "output_type": "stream",
     "text": [
      "<class 'numpy.ndarray'>\n"
     ]
    }
   ],
   "source": [
    "print((type(a)))"
   ]
  },
  {
   "cell_type": "code",
   "execution_count": 8,
   "id": "a87c86f8",
   "metadata": {},
   "outputs": [
    {
     "name": "stdout",
     "output_type": "stream",
     "text": [
      "int64\n"
     ]
    }
   ],
   "source": [
    "print(a.dtype)"
   ]
  },
  {
   "cell_type": "code",
   "execution_count": null,
   "id": "68fef82e",
   "metadata": {},
   "outputs": [],
   "source": []
  },
  {
   "cell_type": "code",
   "execution_count": 14,
   "id": "2d190486",
   "metadata": {},
   "outputs": [
    {
     "name": "stdout",
     "output_type": "stream",
     "text": [
      "(4,)\n"
     ]
    }
   ],
   "source": [
    "print(a.shape)"
   ]
  },
  {
   "cell_type": "code",
   "execution_count": 23,
   "id": "c81aa3f5",
   "metadata": {},
   "outputs": [
    {
     "name": "stdout",
     "output_type": "stream",
     "text": [
      "(2, 2)\n",
      "(2, 3)\n",
      "(2, 3)\n"
     ]
    }
   ],
   "source": [
    "print(b.shape)\n",
    "print(x.shape)\n",
    "print(c.shape)"
   ]
  },
  {
   "cell_type": "code",
   "execution_count": 16,
   "id": "21b63d62",
   "metadata": {},
   "outputs": [],
   "source": [
    "c=([(1,1),(1,1)])\n"
   ]
  },
  {
   "cell_type": "code",
   "execution_count": 17,
   "id": "e05e7229",
   "metadata": {},
   "outputs": [
    {
     "name": "stdout",
     "output_type": "stream",
     "text": [
      "[[2 3]\n",
      " [4 5]]\n"
     ]
    }
   ],
   "source": [
    "sum=b+c\n",
    "print(sum)"
   ]
  },
  {
   "cell_type": "code",
   "execution_count": 18,
   "id": "fbffa4a3",
   "metadata": {},
   "outputs": [],
   "source": [
    "prod=np.dot(b,c) ##matrix multiplication"
   ]
  },
  {
   "cell_type": "code",
   "execution_count": 19,
   "id": "7b7338e0",
   "metadata": {},
   "outputs": [
    {
     "name": "stdout",
     "output_type": "stream",
     "text": [
      "[[3 3]\n",
      " [7 7]]\n"
     ]
    }
   ],
   "source": [
    "print(prod)\n"
   ]
  },
  {
   "cell_type": "code",
   "execution_count": null,
   "id": "9628cc22",
   "metadata": {},
   "outputs": [],
   "source": []
  },
  {
   "cell_type": "code",
   "execution_count": 21,
   "id": "64b19006",
   "metadata": {},
   "outputs": [
    {
     "name": "stdout",
     "output_type": "stream",
     "text": [
      "14\n"
     ]
    }
   ],
   "source": [
    "print(sum.sum())  ##sumof elements in an array"
   ]
  },
  {
   "cell_type": "code",
   "execution_count": 22,
   "id": "66f582e4",
   "metadata": {},
   "outputs": [
    {
     "name": "stdout",
     "output_type": "stream",
     "text": [
      "[6 8]\n"
     ]
    }
   ],
   "source": [
    "print(sum.sum(axis=0))"
   ]
  },
  {
   "cell_type": "code",
   "execution_count": 23,
   "id": "0e88a588",
   "metadata": {},
   "outputs": [
    {
     "name": "stdout",
     "output_type": "stream",
     "text": [
      "[5 9]\n"
     ]
    }
   ],
   "source": [
    "print(sum.sum(axis=1))"
   ]
  },
  {
   "cell_type": "code",
   "execution_count": 28,
   "id": "1965bea5",
   "metadata": {},
   "outputs": [],
   "source": [
    "x=np.arange(10)"
   ]
  },
  {
   "cell_type": "code",
   "execution_count": 29,
   "id": "891ed867",
   "metadata": {},
   "outputs": [
    {
     "name": "stdout",
     "output_type": "stream",
     "text": [
      "[0 1 2 3 4 5 6 7 8 9]\n"
     ]
    }
   ],
   "source": [
    "print(x)"
   ]
  },
  {
   "cell_type": "code",
   "execution_count": 26,
   "id": "2f22acb8",
   "metadata": {},
   "outputs": [
    {
     "name": "stdout",
     "output_type": "stream",
     "text": [
      "5\n"
     ]
    }
   ],
   "source": [
    "print(x[5])"
   ]
  },
  {
   "cell_type": "code",
   "execution_count": 30,
   "id": "2e07612b",
   "metadata": {},
   "outputs": [],
   "source": [
    "x.resize(5,2)"
   ]
  },
  {
   "cell_type": "code",
   "execution_count": 28,
   "id": "ca6d1357",
   "metadata": {},
   "outputs": [
    {
     "name": "stdout",
     "output_type": "stream",
     "text": [
      "[[0 1]\n",
      " [2 3]\n",
      " [4 5]\n",
      " [6 7]\n",
      " [8 9]]\n"
     ]
    }
   ],
   "source": [
    "print(x)\n"
   ]
  },
  {
   "cell_type": "code",
   "execution_count": 31,
   "id": "58f78945",
   "metadata": {},
   "outputs": [
    {
     "name": "stdout",
     "output_type": "stream",
     "text": [
      "[[0 1]]\n"
     ]
    }
   ],
   "source": [
    "print(x[:1])"
   ]
  },
  {
   "cell_type": "code",
   "execution_count": 32,
   "id": "24c73e20",
   "metadata": {},
   "outputs": [
    {
     "name": "stdout",
     "output_type": "stream",
     "text": [
      "[[0]]\n"
     ]
    }
   ],
   "source": [
    "print(x[:1,:1])"
   ]
  },
  {
   "cell_type": "code",
   "execution_count": 36,
   "id": "2edfb88f",
   "metadata": {},
   "outputs": [
    {
     "name": "stdout",
     "output_type": "stream",
     "text": [
      "[[2 3]\n",
      " [4 5]]\n"
     ]
    }
   ],
   "source": [
    "print(x[1:3,:2])"
   ]
  },
  {
   "cell_type": "code",
   "execution_count": null,
   "id": "f68602ff",
   "metadata": {},
   "outputs": [],
   "source": []
  },
  {
   "cell_type": "code",
   "execution_count": 33,
   "id": "d7027cb9",
   "metadata": {},
   "outputs": [],
   "source": [
    "n=np.random.random([3,3]) ##random elements"
   ]
  },
  {
   "cell_type": "code",
   "execution_count": 35,
   "id": "ce7b3940",
   "metadata": {},
   "outputs": [
    {
     "name": "stdout",
     "output_type": "stream",
     "text": [
      "[[0.13040098 0.46368684 0.32034773]\n",
      " [0.76176054 0.45910158 0.97384896]\n",
      " [0.93382953 0.82938595 0.01675412]]\n"
     ]
    }
   ],
   "source": [
    "print (n)\n"
   ]
  },
  {
   "cell_type": "code",
   "execution_count": 38,
   "id": "fe21946f",
   "metadata": {},
   "outputs": [],
   "source": [
    "a=np.arange(1,10)"
   ]
  },
  {
   "cell_type": "code",
   "execution_count": 39,
   "id": "ae5a021f",
   "metadata": {},
   "outputs": [
    {
     "name": "stdout",
     "output_type": "stream",
     "text": [
      "[1 2 3 4 5 6 7 8 9]\n"
     ]
    },
    {
     "data": {
      "text/plain": [
       "array([[1, 2, 3],\n",
       "       [4, 5, 6],\n",
       "       [7, 8, 9]])"
      ]
     },
     "execution_count": 39,
     "metadata": {},
     "output_type": "execute_result"
    }
   ],
   "source": [
    "print(a)\n",
    "a.reshape(3,3) ##reshaping it as 2D array"
   ]
  },
  {
   "cell_type": "code",
   "execution_count": 40,
   "id": "bf2cccbb",
   "metadata": {},
   "outputs": [],
   "source": [
    "b=np.arange(12,38)"
   ]
  },
  {
   "cell_type": "code",
   "execution_count": 41,
   "id": "73532a28",
   "metadata": {},
   "outputs": [
    {
     "name": "stdout",
     "output_type": "stream",
     "text": [
      "[12 13 14 15 16 17 18 19 20 21 22 23 24 25 26 27 28 29 30 31 32 33 34 35\n",
      " 36 37]\n"
     ]
    }
   ],
   "source": [
    "print(b)\n"
   ]
  },
  {
   "cell_type": "code",
   "execution_count": 43,
   "id": "89a65a0d",
   "metadata": {},
   "outputs": [
    {
     "name": "stdout",
     "output_type": "stream",
     "text": [
      "[37 36 35 34 33 32 31 30 29 28 27 26 25 24 23 22 21 20 19 18 17 16 15 14\n",
      " 13 12]\n"
     ]
    }
   ],
   "source": [
    "print(b[::-1]) ##array reverse"
   ]
  },
  {
   "cell_type": "code",
   "execution_count": 44,
   "id": "66db1c46",
   "metadata": {},
   "outputs": [
    {
     "name": "stdout",
     "output_type": "stream",
     "text": [
      "[[0.19728125 0.95276748 0.68086747 0.9867577 ]\n",
      " [0.63674429 0.81929717 0.33442519 0.58580733]\n",
      " [0.94007612 0.13922912 0.44884314 0.05589198]]\n"
     ]
    }
   ],
   "source": [
    "h = np.random.random((3,4)) #creating a numpy array having dimension (3,4) with random elements\n",
    "print(h)"
   ]
  },
  {
   "cell_type": "code",
   "execution_count": 45,
   "id": "203d5ee2",
   "metadata": {},
   "outputs": [
    {
     "name": "stdout",
     "output_type": "stream",
     "text": [
      "[[[0.19728125 0.95276748 0.68086747]\n",
      "  [0.9867577  0.63674429 0.81929717]]\n",
      "\n",
      " [[0.33442519 0.58580733 0.94007612]\n",
      "  [0.13922912 0.44884314 0.05589198]]]\n"
     ]
    }
   ],
   "source": [
    "print(h.reshape(2,2,3)) ##reshaping it as two,2*3 arrays"
   ]
  },
  {
   "cell_type": "code",
   "execution_count": 40,
   "id": "b88d6a6f",
   "metadata": {},
   "outputs": [
    {
     "name": "stdout",
     "output_type": "stream",
     "text": [
      "[[1.+0.j 2.+5.j]]\n",
      "[[1. 2.]]\n",
      "[[0. 5.]]\n"
     ]
    }
   ],
   "source": [
    "z = np.array([[1+0.j,2+5.j]]) ## numpy  array with complex numbers\n",
    "print(z)\n",
    "print(z.real)    ##printing real and imaginary parts\n",
    "print(z.imag)"
   ]
  },
  {
   "cell_type": "code",
   "execution_count": 5,
   "id": "a964655e",
   "metadata": {},
   "outputs": [
    {
     "name": "stdout",
     "output_type": "stream",
     "text": [
      "Original array:\n",
      "[[1. 1. 1. 1. 1.]\n",
      " [1. 1. 1. 1. 1.]\n",
      " [1. 1. 1. 1. 1.]\n",
      " [1. 1. 1. 1. 1.]\n",
      " [1. 1. 1. 1. 1.]]\n",
      "1 on the border and 0 inside in the array\n",
      "[[1. 1. 1. 1. 1.]\n",
      " [1. 0. 0. 0. 1.]\n",
      " [1. 0. 0. 0. 1.]\n",
      " [1. 0. 0. 0. 1.]\n",
      " [1. 1. 1. 1. 1.]]\n"
     ]
    }
   ],
   "source": [
    "x = np.ones((5,5))\n",
    "print(\"Original array:\")\n",
    "print(x)\n",
    "print(\"1 on the border and 0 inside in the array\")\n",
    "x[1:-1,1:-1] = 0\n",
    "print(x)"
   ]
  },
  {
   "cell_type": "code",
   "execution_count": 7,
   "id": "fc1d0b35",
   "metadata": {},
   "outputs": [],
   "source": [
    "g=(1,2,3,4)  \n",
    "g=np.array(g)   ##list to array"
   ]
  },
  {
   "cell_type": "code",
   "execution_count": 8,
   "id": "a306391c",
   "metadata": {},
   "outputs": [],
   "source": []
  },
  {
   "cell_type": "code",
   "execution_count": 9,
   "id": "8155c249",
   "metadata": {},
   "outputs": [
    {
     "name": "stdout",
     "output_type": "stream",
     "text": [
      "[1 2 3 4]\n"
     ]
    }
   ],
   "source": [
    "print(g)"
   ]
  },
  {
   "cell_type": "code",
   "execution_count": 10,
   "id": "6a5846fd",
   "metadata": {},
   "outputs": [
    {
     "name": "stdout",
     "output_type": "stream",
     "text": [
      "[1 2 3 4 5 6 7 8 9]\n",
      "[[1 2 3]\n",
      " [4 5 6]\n",
      " [7 8 9]]\n"
     ]
    }
   ],
   "source": [
    "a=np.arange(1,10)   ##3*3 matrix\n",
    "print(a)\n",
    "print(a.reshape(3,3))"
   ]
  },
  {
   "cell_type": "code",
   "execution_count": 19,
   "id": "3729f809",
   "metadata": {},
   "outputs": [
    {
     "name": "stdout",
     "output_type": "stream",
     "text": [
      "[[0. 0. 0.]\n",
      " [0. 0. 0.]\n",
      " [0. 0. 0.]]\n",
      "[[0. 0. 0.]\n",
      " [0. 0. 0.]\n",
      " [0. 0. 6.]]\n",
      "[[ 0.  0.  0.]\n",
      " [ 0.  0.  0.]\n",
      " [ 0.  0. 10.]]\n"
     ]
    }
   ],
   "source": [
    "b=np.zeros((3,3))  ##3*3 matrix with all zeroes\n",
    "print(b)\n",
    "b[2,2]=6        ##updating last element \n",
    "print(b)\n",
    "b[-1,-1]=10\n",
    "print(b)"
   ]
  },
  {
   "cell_type": "code",
   "execution_count": 21,
   "id": "a851a7f5",
   "metadata": {},
   "outputs": [
    {
     "name": "stdout",
     "output_type": "stream",
     "text": [
      "[ 2  3  4  5  6  7  8  9 10]\n"
     ]
    }
   ],
   "source": [
    "c=np.arange(2,11)\n",
    "print(c)"
   ]
  },
  {
   "cell_type": "code",
   "execution_count": 22,
   "id": "fe271d51",
   "metadata": {},
   "outputs": [
    {
     "name": "stdout",
     "output_type": "stream",
     "text": [
      "[ 2.  3.  4.  5.  6.  7.  8.  9. 10.]\n"
     ]
    }
   ],
   "source": [
    "f=np.asfarray(c) ##make array as float\n",
    "print(f)"
   ]
  },
  {
   "cell_type": "code",
   "execution_count": 41,
   "id": "030e2c7d",
   "metadata": {},
   "outputs": [],
   "source": [
    "import numpy as np   ##convert numpy array to textfile\n",
    "a = np.arange(1, 10)\n",
    "np.savetxt('file.txt', a, delimiter=',')\n",
    "\n"
   ]
  },
  {
   "cell_type": "code",
   "execution_count": 14,
   "id": "0cea909c",
   "metadata": {},
   "outputs": [
    {
     "name": "stdout",
     "output_type": "stream",
     "text": [
      "[[1 2 3]\n",
      " [4 5 6]]\n",
      "[[1 4]\n",
      " [2 5]\n",
      " [3 6]]\n"
     ]
    }
   ],
   "source": [
    "import numpy as np       ##Interchange the axes or finding transpose\n",
    "x = np.array([[1,2,3],[4,5,6]])\n",
    "print(x)\n",
    "y =  np.swapaxes(x,0,1)\n",
    "print(y)"
   ]
  },
  {
   "cell_type": "code",
   "execution_count": 53,
   "id": "bb71a148",
   "metadata": {},
   "outputs": [
    {
     "name": "stdout",
     "output_type": "stream",
     "text": [
      "[[10 20 30]\n",
      " [40 50 60]\n",
      " [70 80 90]]\n"
     ]
    }
   ],
   "source": [
    "import numpy as np      ##convert numpy array into csv file\n",
    "data = np.array( [[10,20,30], [40,50,60], [70,80,90]] )\n",
    "print(data)\n",
    "np.savetxt(\"test.csv\", data, delimiter=\",\")"
   ]
  },
  {
   "cell_type": "code",
   "execution_count": 54,
   "id": "8504c939",
   "metadata": {},
   "outputs": [],
   "source": [
    "a=np.array([1,2,3])"
   ]
  },
  {
   "cell_type": "code",
   "execution_count": 58,
   "id": "872809f2",
   "metadata": {},
   "outputs": [
    {
     "name": "stdout",
     "output_type": "stream",
     "text": [
      "Requirement already satisfied: matplotlib in ./anaconda3/lib/python3.7/site-packages (3.4.3)\r\n",
      "Requirement already satisfied: pillow>=6.2.0 in ./anaconda3/lib/python3.7/site-packages (from matplotlib) (8.4.0)\r\n",
      "Requirement already satisfied: python-dateutil>=2.7 in ./anaconda3/lib/python3.7/site-packages (from matplotlib) (2.8.2)\r\n",
      "Requirement already satisfied: pyparsing>=2.2.1 in ./anaconda3/lib/python3.7/site-packages (from matplotlib) (3.0.6)\r\n",
      "Requirement already satisfied: kiwisolver>=1.0.1 in ./anaconda3/lib/python3.7/site-packages (from matplotlib) (1.3.2)\r\n",
      "Requirement already satisfied: numpy>=1.16 in ./anaconda3/lib/python3.7/site-packages (from matplotlib) (1.21.4)\r\n",
      "Requirement already satisfied: cycler>=0.10 in ./anaconda3/lib/python3.7/site-packages (from matplotlib) (0.11.0)\r\n",
      "Requirement already satisfied: six>=1.5 in ./anaconda3/lib/python3.7/site-packages (from python-dateutil>=2.7->matplotlib) (1.16.0)\r\n"
     ]
    }
   ],
   "source": [
    "!pip install matplotlib\n",
    "\n"
   ]
  },
  {
   "cell_type": "code",
   "execution_count": null,
   "id": "da879553",
   "metadata": {},
   "outputs": [],
   "source": [
    "\n"
   ]
  },
  {
   "cell_type": "code",
   "execution_count": null,
   "id": "532f6912",
   "metadata": {},
   "outputs": [],
   "source": []
  }
 ],
 "metadata": {
  "kernelspec": {
   "display_name": "Python 3 (ipykernel)",
   "language": "python",
   "name": "python3"
  },
  "language_info": {
   "codemirror_mode": {
    "name": "ipython",
    "version": 3
   },
   "file_extension": ".py",
   "mimetype": "text/x-python",
   "name": "python",
   "nbconvert_exporter": "python",
   "pygments_lexer": "ipython3",
   "version": "3.7.11"
  }
 },
 "nbformat": 4,
 "nbformat_minor": 5
}
