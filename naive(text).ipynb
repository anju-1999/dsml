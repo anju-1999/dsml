{
 "cells": [
  {
   "cell_type": "code",
   "execution_count": 1,
   "id": "673d5ccb",
   "metadata": {},
   "outputs": [],
   "source": [
    "import pandas as pd\n",
    "import numpy as np\n",
    "import matplotlib.pyplot as plt"
   ]
  },
  {
   "cell_type": "code",
   "execution_count": 5,
   "id": "186d5a6d",
   "metadata": {},
   "outputs": [],
   "source": [
    "s=[\"I love this sandwich\",\"This is an amazing place\",\"I feel very good about these beers\",\"This is my best work\",\n",
    "   \"That is an awesome work\",\"I love to dance\",\"I  am sick and tired of this place\",\n",
    "   \"I do not like the taste of this juice\",\"My boss is horrible\",\"What a bad locality to stay\",\n",
    "   \"We will have good fun tomorrow\",\"I do not like this restaurant\",\"I feel very bad today\",\n",
    "   \"I couldn’t solve this problem\",\"I love to play football\",\"I hate fast music\"]\n",
    "l=[\"pos\",\"pos\",\"pos\",\"pos\",\"pos\",\"pos\",\"neg\",\"neg\",\"neg\",\"neg\",\"pos\",\"neg\",\"neg\",\"neg\",\"pos\",\"neg\"]"
   ]
  },
  {
   "cell_type": "code",
   "execution_count": 6,
   "id": "f3392531",
   "metadata": {},
   "outputs": [],
   "source": [
    "df=pd.DataFrame({\"statement\":s,\"label\":l})\n",
    "df.to_csv(\"text.csv\",index=False,encoding='utf-8')"
   ]
  },
  {
   "cell_type": "code",
   "execution_count": 7,
   "id": "69bb969e",
   "metadata": {},
   "outputs": [
    {
     "name": "stdout",
     "output_type": "stream",
     "text": [
      "                                statement label\n",
      "0                    I love this sandwich   pos\n",
      "1                This is an amazing place   pos\n",
      "2      I feel very good about these beers   pos\n",
      "3                    This is my best work   pos\n",
      "4                 That is an awesome work   pos\n",
      "5                         I love to dance   pos\n",
      "6      I  am sick and tired of this place   neg\n",
      "7   I do not like the taste of this juice   neg\n",
      "8                     My boss is horrible   neg\n",
      "9             What a bad locality to stay   neg\n",
      "10         We will have good fun tomorrow   pos\n",
      "11          I do not like this restaurant   neg\n",
      "12                  I feel very bad today   neg\n",
      "13          I couldn’t solve this problem   neg\n",
      "14                I love to play football   pos\n",
      "15                      I hate fast music   neg\n"
     ]
    }
   ],
   "source": [
    "print(df)"
   ]
  },
  {
   "cell_type": "code",
   "execution_count": 8,
   "id": "87f109f9",
   "metadata": {},
   "outputs": [
    {
     "name": "stdout",
     "output_type": "stream",
     "text": [
      "16\n"
     ]
    }
   ],
   "source": [
    "#Checking maximum length of SMS\n",
    "\n",
    "print(len(df))\n"
   ]
  },
  {
   "cell_type": "code",
   "execution_count": 10,
   "id": "664c22bb",
   "metadata": {},
   "outputs": [
    {
     "data": {
      "text/plain": [
       "label\n",
       "neg    8\n",
       "pos    8\n",
       "dtype: int64"
      ]
     },
     "execution_count": 10,
     "metadata": {},
     "output_type": "execute_result"
    }
   ],
   "source": [
    "df.value_counts('label')"
   ]
  },
  {
   "cell_type": "code",
   "execution_count": 11,
   "id": "30f911d4",
   "metadata": {},
   "outputs": [
    {
     "data": {
      "text/html": [
       "<div>\n",
       "<style scoped>\n",
       "    .dataframe tbody tr th:only-of-type {\n",
       "        vertical-align: middle;\n",
       "    }\n",
       "\n",
       "    .dataframe tbody tr th {\n",
       "        vertical-align: top;\n",
       "    }\n",
       "\n",
       "    .dataframe thead th {\n",
       "        text-align: right;\n",
       "    }\n",
       "</style>\n",
       "<table border=\"1\" class=\"dataframe\">\n",
       "  <thead>\n",
       "    <tr style=\"text-align: right;\">\n",
       "      <th></th>\n",
       "      <th>statement</th>\n",
       "      <th>label</th>\n",
       "    </tr>\n",
       "  </thead>\n",
       "  <tbody>\n",
       "    <tr>\n",
       "      <th>count</th>\n",
       "      <td>16</td>\n",
       "      <td>16</td>\n",
       "    </tr>\n",
       "    <tr>\n",
       "      <th>unique</th>\n",
       "      <td>16</td>\n",
       "      <td>2</td>\n",
       "    </tr>\n",
       "    <tr>\n",
       "      <th>top</th>\n",
       "      <td>This is my best work</td>\n",
       "      <td>neg</td>\n",
       "    </tr>\n",
       "    <tr>\n",
       "      <th>freq</th>\n",
       "      <td>1</td>\n",
       "      <td>8</td>\n",
       "    </tr>\n",
       "  </tbody>\n",
       "</table>\n",
       "</div>"
      ],
      "text/plain": [
       "                   statement label\n",
       "count                     16    16\n",
       "unique                    16     2\n",
       "top     This is my best work   neg\n",
       "freq                       1     8"
      ]
     },
     "execution_count": 11,
     "metadata": {},
     "output_type": "execute_result"
    }
   ],
   "source": [
    "df.describe()"
   ]
  },
  {
   "cell_type": "code",
   "execution_count": 12,
   "id": "42c80a30",
   "metadata": {},
   "outputs": [
    {
     "data": {
      "text/html": [
       "<div>\n",
       "<style scoped>\n",
       "    .dataframe tbody tr th:only-of-type {\n",
       "        vertical-align: middle;\n",
       "    }\n",
       "\n",
       "    .dataframe tbody tr th {\n",
       "        vertical-align: top;\n",
       "    }\n",
       "\n",
       "    .dataframe thead th {\n",
       "        text-align: right;\n",
       "    }\n",
       "</style>\n",
       "<table border=\"1\" class=\"dataframe\">\n",
       "  <thead>\n",
       "    <tr style=\"text-align: right;\">\n",
       "      <th></th>\n",
       "      <th>statement</th>\n",
       "      <th>label</th>\n",
       "      <th>length</th>\n",
       "    </tr>\n",
       "  </thead>\n",
       "  <tbody>\n",
       "    <tr>\n",
       "      <th>0</th>\n",
       "      <td>I love this sandwich</td>\n",
       "      <td>pos</td>\n",
       "      <td>20</td>\n",
       "    </tr>\n",
       "    <tr>\n",
       "      <th>1</th>\n",
       "      <td>This is an amazing place</td>\n",
       "      <td>pos</td>\n",
       "      <td>24</td>\n",
       "    </tr>\n",
       "    <tr>\n",
       "      <th>2</th>\n",
       "      <td>I feel very good about these beers</td>\n",
       "      <td>pos</td>\n",
       "      <td>34</td>\n",
       "    </tr>\n",
       "    <tr>\n",
       "      <th>3</th>\n",
       "      <td>This is my best work</td>\n",
       "      <td>pos</td>\n",
       "      <td>20</td>\n",
       "    </tr>\n",
       "    <tr>\n",
       "      <th>4</th>\n",
       "      <td>That is an awesome work</td>\n",
       "      <td>pos</td>\n",
       "      <td>23</td>\n",
       "    </tr>\n",
       "  </tbody>\n",
       "</table>\n",
       "</div>"
      ],
      "text/plain": [
       "                            statement label  length\n",
       "0                I love this sandwich   pos      20\n",
       "1            This is an amazing place   pos      24\n",
       "2  I feel very good about these beers   pos      34\n",
       "3                This is my best work   pos      20\n",
       "4             That is an awesome work   pos      23"
      ]
     },
     "execution_count": 12,
     "metadata": {},
     "output_type": "execute_result"
    }
   ],
   "source": [
    "df['length']=df['statement'].apply(len)\n",
    "df.head()"
   ]
  },
  {
   "cell_type": "code",
   "execution_count": 13,
   "id": "b2535ec2",
   "metadata": {},
   "outputs": [],
   "source": [
    "##Splitting the dataset into training set and test set\n",
    "\n",
    "x=df['statement'] #independent variable\n",
    "y=df['label'] #dependent variable\n",
    "\n",
    "from sklearn.model_selection import train_test_split  \n",
    "x_train, x_test, y_train, y_test= train_test_split(x, y, test_size= 0.25, random_state=0)\n"
   ]
  },
  {
   "cell_type": "code",
   "execution_count": 14,
   "id": "bd328797",
   "metadata": {},
   "outputs": [],
   "source": [
    "# Instantiate the CountVectorizer method\n",
    "\n",
    "from sklearn.feature_extraction.text import CountVectorizer\n",
    "count_vector = CountVectorizer()\n"
   ]
  },
  {
   "cell_type": "code",
   "execution_count": 15,
   "id": "35088435",
   "metadata": {},
   "outputs": [],
   "source": [
    "#Fit the training data and then return the matrix\n",
    "train_data=count_vector.fit_transform(x_train)\n",
    "\n",
    "# Transform testing data and return the matrix\n",
    "test_data=count_vector.transform(x_test)\n"
   ]
  },
  {
   "cell_type": "code",
   "execution_count": 16,
   "id": "12974351",
   "metadata": {},
   "outputs": [
    {
     "data": {
      "text/plain": [
       "MultinomialNB()"
      ]
     },
     "execution_count": 16,
     "metadata": {},
     "output_type": "execute_result"
    }
   ],
   "source": [
    "from sklearn.naive_bayes import MultinomialNB   #suitable for classification with discrete features\n",
    "classifier=MultinomialNB()\n",
    "classifier.fit(train_data,y_train)\n"
   ]
  },
  {
   "cell_type": "code",
   "execution_count": 17,
   "id": "0088e88c",
   "metadata": {},
   "outputs": [
    {
     "name": "stdout",
     "output_type": "stream",
     "text": [
      "['pos' 'neg' 'pos' 'pos']\n"
     ]
    }
   ],
   "source": [
    "# Predicting the test set results\n",
    "\n",
    "y_pred = classifier.predict(test_data)\n",
    "print(y_pred)\n"
   ]
  },
  {
   "cell_type": "code",
   "execution_count": 18,
   "id": "5d081e63",
   "metadata": {},
   "outputs": [
    {
     "name": "stdout",
     "output_type": "stream",
     "text": [
      "[[1 2]\n",
      " [0 1]]\n"
     ]
    }
   ],
   "source": [
    "from sklearn.metrics import confusion_matrix\n",
    "cm= confusion_matrix (y_test, y_pred,labels=classifier.classes_)  \n",
    "print(cm)"
   ]
  },
  {
   "cell_type": "code",
   "execution_count": 19,
   "id": "7574ca9f",
   "metadata": {},
   "outputs": [
    {
     "data": {
      "text/plain": [
       "<sklearn.metrics._plot.confusion_matrix.ConfusionMatrixDisplay at 0x19c17ed0df0>"
      ]
     },
     "execution_count": 19,
     "metadata": {},
     "output_type": "execute_result"
    },
    {
     "data": {
      "image/png": "[encoded data removed]",
      "text/plain": [
       "<Figure size 432x288 with 2 Axes>"
      ]
     },
     "metadata": {
      "needs_background": "light"
     },
     "output_type": "display_data"
    }
   ],
   "source": [
    "# Making the confusion matrix\n",
    "\n",
    "from sklearn.metrics import ConfusionMatrixDisplay\n",
    "disp = ConfusionMatrixDisplay(confusion_matrix=cm,display_labels=classifier.classes_)\n",
    "disp.plot()"
   ]
  },
  {
   "cell_type": "code",
   "execution_count": 20,
   "id": "2eef4ac8",
   "metadata": {},
   "outputs": [
    {
     "name": "stdout",
     "output_type": "stream",
     "text": [
      "1.0\n",
      "0.5\n"
     ]
    }
   ],
   "source": [
    "training_score = classifier.score(train_data, y_train)\n",
    "test_score = classifier.score(test_data, y_test)\n",
    "print(training_score)\n",
    "print(test_score)\n"
   ]
  },
  {
   "cell_type": "code",
   "execution_count": 21,
   "id": "0b4d0fb5",
   "metadata": {},
   "outputs": [
    {
     "name": "stdout",
     "output_type": "stream",
     "text": [
      "Accuracy score: 0.5\n",
      "Precision score: 1.0\n",
      "Recall score: 0.3333333333333333\n",
      "F1 score: 0.5\n"
     ]
    }
   ],
   "source": [
    "#Evaluationg our model\n",
    "\n",
    "from sklearn.metrics import accuracy_score, precision_score, recall_score, f1_score\n",
    "print('Accuracy score: {}'.format(accuracy_score(y_test, y_pred)))\n",
    "print('Precision score: {}'.format(precision_score(y_test, y_pred,pos_label=\"neg\")))\n",
    "print('Recall score: {}'.format(recall_score(y_test, y_pred,pos_label=\"neg\")))\n",
    "print('F1 score: {}'.format(f1_score(y_test, y_pred,pos_label=\"neg\")))\n"
   ]
  },
  {
   "cell_type": "code",
   "execution_count": null,
   "id": "cc4feba1",
   "metadata": {},
   "outputs": [],
   "source": []
  }
 ],
 "metadata": {
  "kernelspec": {
   "display_name": "Python 3 (ipykernel)",
   "language": "python",
   "name": "python3"
  },
  "language_info": {
   "codemirror_mode": {
    "name": "ipython",
    "version": 3
   },
   "file_extension": ".py",
   "mimetype": "text/x-python",
   "name": "python",
   "nbconvert_exporter": "python",
   "pygments_lexer": "ipython3",
   "version": "3.8.12"
  }
 },
 "nbformat": 4,
 "nbformat_minor": 5
}
