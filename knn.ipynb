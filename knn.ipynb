{
 "cells": [
  {
   "cell_type": "code",
   "execution_count": 51,
   "id": "3e9f4388",
   "metadata": {},
   "outputs": [],
   "source": [
    "i=[\"Apple\",\"bacon\",\"banana\",\"carrot\",\"celery\",\"cheeze\",\"mango\",\"tomato\",\"beans\",\"choclate\"]\n",
    "s=[10,1,10,7,3,1,9,6,3,15]\n",
    "c=[9,4,1,10,10,1,5,4,5,1]\n",
    "f=[\"fruit\",\"protein\",\"fruit\",\"vegitable\",\"vegitable\",\"protein\",\"fruit\",\"fruit\",\"vegitable\",\"protein\"]"
   ]
  },
  {
   "cell_type": "code",
   "execution_count": 52,
   "id": "719833ec",
   "metadata": {},
   "outputs": [],
   "source": [
    "import pandas as pd"
   ]
  },
  {
   "cell_type": "code",
   "execution_count": 53,
   "id": "ed824ebe",
   "metadata": {},
   "outputs": [],
   "source": [
    "df=pd.DataFrame({\"Ingredient\":i,\"Sweetness\":s,\"Crunchiness\":c,\"food_type\":f})"
   ]
  },
  {
   "cell_type": "code",
   "execution_count": 54,
   "id": "47e24390",
   "metadata": {},
   "outputs": [],
   "source": [
    "import pandas as pd\n",
    "import numpy as np\n",
    "df.to_csv(\"food.csv\",index=False,encoding='utf-8')"
   ]
  },
  {
   "cell_type": "code",
   "execution_count": 55,
   "id": "07bc5e01",
   "metadata": {},
   "outputs": [
    {
     "name": "stdout",
     "output_type": "stream",
     "text": [
      "  Ingredient  Sweetness  Crunchiness  food_type\n",
      "0      Apple         10            9      fruit\n",
      "1      bacon          1            4    protein\n",
      "2     banana         10            1      fruit\n",
      "3     carrot          7           10  vegitable\n",
      "4     celery          3           10  vegitable\n",
      "5     cheeze          1            1    protein\n",
      "6      mango          9            5      fruit\n",
      "7     tomato          6            4      fruit\n",
      "8      beans          3            5  vegitable\n",
      "9   choclate         15            1    protein\n"
     ]
    }
   ],
   "source": [
    "print(df)"
   ]
  },
  {
   "cell_type": "code",
   "execution_count": 56,
   "id": "440d20c3",
   "metadata": {},
   "outputs": [],
   "source": [
    "df=pd.read_csv(\"food.csv\")"
   ]
  },
  {
   "cell_type": "code",
   "execution_count": 57,
   "id": "e9cbbad6",
   "metadata": {},
   "outputs": [
    {
     "name": "stdout",
     "output_type": "stream",
     "text": [
      "  Ingredient  Sweetness  Crunchiness  food_type\n",
      "0      Apple         10            9      fruit\n",
      "1      bacon          1            4    protein\n",
      "2     banana         10            1      fruit\n",
      "3     carrot          7           10  vegitable\n",
      "4     celery          3           10  vegitable\n",
      "5     cheeze          1            1    protein\n",
      "6      mango          9            5      fruit\n",
      "7     tomato          6            4      fruit\n",
      "8      beans          3            5  vegitable\n",
      "9   choclate         15            1    protein\n"
     ]
    }
   ],
   "source": [
    "print(df)"
   ]
  },
  {
   "cell_type": "code",
   "execution_count": 58,
   "id": "9b6f14c3",
   "metadata": {},
   "outputs": [
    {
     "data": {
      "text/plain": [
       "(10, 4)"
      ]
     },
     "execution_count": 58,
     "metadata": {},
     "output_type": "execute_result"
    }
   ],
   "source": [
    "df.shape"
   ]
  },
  {
   "cell_type": "code",
   "execution_count": 59,
   "id": "80b6a1cc",
   "metadata": {},
   "outputs": [
    {
     "name": "stdout",
     "output_type": "stream",
     "text": [
      "<class 'pandas.core.frame.DataFrame'>\n"
     ]
    }
   ],
   "source": [
    "print(type(df))"
   ]
  },
  {
   "cell_type": "code",
   "execution_count": 60,
   "id": "47d22a04",
   "metadata": {},
   "outputs": [
    {
     "data": {
      "text/html": [
       "<div>\n",
       "<style scoped>\n",
       "    .dataframe tbody tr th:only-of-type {\n",
       "        vertical-align: middle;\n",
       "    }\n",
       "\n",
       "    .dataframe tbody tr th {\n",
       "        vertical-align: top;\n",
       "    }\n",
       "\n",
       "    .dataframe thead th {\n",
       "        text-align: right;\n",
       "    }\n",
       "</style>\n",
       "<table border=\"1\" class=\"dataframe\">\n",
       "  <thead>\n",
       "    <tr style=\"text-align: right;\">\n",
       "      <th></th>\n",
       "      <th>Ingredient</th>\n",
       "      <th>Sweetness</th>\n",
       "      <th>Crunchiness</th>\n",
       "      <th>food_type</th>\n",
       "    </tr>\n",
       "  </thead>\n",
       "  <tbody>\n",
       "    <tr>\n",
       "      <th>0</th>\n",
       "      <td>Apple</td>\n",
       "      <td>10</td>\n",
       "      <td>9</td>\n",
       "      <td>fruit</td>\n",
       "    </tr>\n",
       "    <tr>\n",
       "      <th>1</th>\n",
       "      <td>bacon</td>\n",
       "      <td>1</td>\n",
       "      <td>4</td>\n",
       "      <td>protein</td>\n",
       "    </tr>\n",
       "    <tr>\n",
       "      <th>2</th>\n",
       "      <td>banana</td>\n",
       "      <td>10</td>\n",
       "      <td>1</td>\n",
       "      <td>fruit</td>\n",
       "    </tr>\n",
       "    <tr>\n",
       "      <th>3</th>\n",
       "      <td>carrot</td>\n",
       "      <td>7</td>\n",
       "      <td>10</td>\n",
       "      <td>vegitable</td>\n",
       "    </tr>\n",
       "    <tr>\n",
       "      <th>4</th>\n",
       "      <td>celery</td>\n",
       "      <td>3</td>\n",
       "      <td>10</td>\n",
       "      <td>vegitable</td>\n",
       "    </tr>\n",
       "  </tbody>\n",
       "</table>\n",
       "</div>"
      ],
      "text/plain": [
       "  Ingredient  Sweetness  Crunchiness  food_type\n",
       "0      Apple         10            9      fruit\n",
       "1      bacon          1            4    protein\n",
       "2     banana         10            1      fruit\n",
       "3     carrot          7           10  vegitable\n",
       "4     celery          3           10  vegitable"
      ]
     },
     "execution_count": 60,
     "metadata": {},
     "output_type": "execute_result"
    }
   ],
   "source": [
    "df.head()"
   ]
  },
  {
   "cell_type": "code",
   "execution_count": 61,
   "id": "dc1f62e8",
   "metadata": {},
   "outputs": [
    {
     "data": {
      "text/plain": [
       "food_type\n",
       "fruit        4\n",
       "protein      3\n",
       "vegitable    3\n",
       "dtype: int64"
      ]
     },
     "execution_count": 61,
     "metadata": {},
     "output_type": "execute_result"
    }
   ],
   "source": [
    "df.value_counts(\"food_type\")"
   ]
  },
  {
   "cell_type": "code",
   "execution_count": 62,
   "id": "d7bc771a",
   "metadata": {},
   "outputs": [
    {
     "name": "stdout",
     "output_type": "stream",
     "text": [
      "   Ingredient  Sweetness  Crunchiness  food_type\n",
      "0           0         10            9          0\n",
      "1           1          1            4          1\n",
      "2           2         10            1          0\n",
      "3           4          7           10          2\n",
      "4           5          3           10          2\n",
      "5           6          1            1          1\n",
      "6           8          9            5          0\n",
      "7           9          6            4          0\n",
      "8           3          3            5          2\n",
      "9           7         15            1          1\n"
     ]
    }
   ],
   "source": [
    "from sklearn.preprocessing import LabelEncoder\n",
    "\n",
    "l= LabelEncoder()\n",
    "df['Ingredient']= l.fit_transform(df['Ingredient'])\n",
    "df['food_type']= l.fit_transform(df['food_type'])\n",
    "print(df)"
   ]
  },
  {
   "cell_type": "code",
   "execution_count": 63,
   "id": "7b02bef3",
   "metadata": {},
   "outputs": [
    {
     "name": "stdout",
     "output_type": "stream",
     "text": [
      "0    0\n",
      "1    1\n",
      "2    0\n",
      "3    2\n",
      "4    2\n",
      "5    1\n",
      "6    0\n",
      "7    0\n",
      "8    2\n",
      "9    1\n",
      "Name: food_type, dtype: int32\n",
      "   Ingredient  Sweetness  Crunchiness\n",
      "0           0         10            9\n",
      "1           1          1            4\n",
      "2           2         10            1\n",
      "3           4          7           10\n",
      "4           5          3           10\n",
      "5           6          1            1\n",
      "6           8          9            5\n",
      "7           9          6            4\n",
      "8           3          3            5\n",
      "9           7         15            1\n"
     ]
    }
   ],
   "source": [
    "y=df[\"food_type\"]\n",
    "df.drop(\"food_type\",axis=1,inplace=True)\n",
    "x=df\n",
    "print(y)\n",
    "print(x)"
   ]
  },
  {
   "cell_type": "code",
   "execution_count": 64,
   "id": "1c60231e",
   "metadata": {},
   "outputs": [],
   "source": [
    "#Splitting the data into training and testing data\n",
    "\n",
    "from sklearn.model_selection import train_test_split  \n",
    "x_train, x_test, y_train, y_test= train_test_split(x, y, test_size= 0.25, random_state=0)\n"
   ]
  },
  {
   "cell_type": "code",
   "execution_count": 65,
   "id": "dd9eefe1",
   "metadata": {},
   "outputs": [
    {
     "name": "stdout",
     "output_type": "stream",
     "text": [
      "[[0.77777778 1.         0.        ]\n",
      " [0.11111111 0.         0.33333333]\n",
      " [0.88888889 0.57142857 0.44444444]\n",
      " [1.         0.35714286 0.33333333]\n",
      " [0.44444444 0.42857143 1.        ]\n",
      " [0.         0.64285714 0.88888889]\n",
      " [0.66666667 0.         0.        ]]\n"
     ]
    }
   ],
   "source": [
    "#Feature Scaling(MinMaxScaler)\n",
    "\n",
    "from sklearn.preprocessing import MinMaxScaler    \n",
    "st_x= MinMaxScaler()    \n",
    "x_train= st_x.fit_transform(x_train) \n",
    "x_test=st_x.fit_transform(x_test)\n",
    "print(x_train)\n",
    "\n"
   ]
  },
  {
   "cell_type": "code",
   "execution_count": 66,
   "id": "3f84e715",
   "metadata": {},
   "outputs": [
    {
     "data": {
      "text/plain": [
       "KNeighborsClassifier(n_neighbors=4)"
      ]
     },
     "execution_count": 66,
     "metadata": {},
     "output_type": "execute_result"
    }
   ],
   "source": [
    "# Fitting k-NN classifier to the training set\n",
    "\n",
    "from sklearn.neighbors import KNeighborsClassifier \n",
    "classifier = KNeighborsClassifier(n_neighbors = 4)\n",
    "classifier.fit(x_train,y_train)\n"
   ]
  },
  {
   "cell_type": "code",
   "execution_count": 67,
   "id": "14b016e1",
   "metadata": {},
   "outputs": [
    {
     "name": "stdout",
     "output_type": "stream",
     "text": [
      "[0 1 0]\n"
     ]
    }
   ],
   "source": [
    "# Predicting the Test Result:\n",
    "\n",
    "y_pred= classifier.predict(x_test)  \n",
    "print(y_pred)\n"
   ]
  },
  {
   "cell_type": "code",
   "execution_count": 68,
   "id": "0897ca95",
   "metadata": {},
   "outputs": [
    {
     "name": "stdout",
     "output_type": "stream",
     "text": [
      "[[1 0 0]\n",
      " [0 0 0]\n",
      " [1 1 0]]\n"
     ]
    }
   ],
   "source": [
    "#Creating the Confusion Matrix to see the accuracy of the classifier\n",
    "\n",
    "from sklearn.metrics import confusion_matrix\n",
    "cm= confusion_matrix (y_test, y_pred,labels=classifier.classes_)  \n",
    "print(cm)\n"
   ]
  },
  {
   "cell_type": "code",
   "execution_count": 69,
   "id": "f7d4c4c4",
   "metadata": {},
   "outputs": [
    {
     "data": {
      "text/plain": [
       "<sklearn.metrics._plot.confusion_matrix.ConfusionMatrixDisplay at 0x23a54004e50>"
      ]
     },
     "execution_count": 69,
     "metadata": {},
     "output_type": "execute_result"
    },
    {
     "data": {
      "image/png": "[encoded data removed]",
      "text/plain": [
       "<Figure size 432x288 with 2 Axes>"
      ]
     },
     "metadata": {
      "needs_background": "light"
     },
     "output_type": "display_data"
    }
   ],
   "source": [
    "##Confusion Matrix Display\n",
    "\n",
    "from sklearn.metrics import ConfusionMatrixDisplay\n",
    "disp = ConfusionMatrixDisplay(confusion_matrix=cm,display_labels=classifier.classes_)\n",
    "disp.plot()\n"
   ]
  },
  {
   "cell_type": "code",
   "execution_count": 70,
   "id": "a4a392c3",
   "metadata": {},
   "outputs": [
    {
     "name": "stdout",
     "output_type": "stream",
     "text": [
      "0.5714285714285714\n",
      "0.3333333333333333\n"
     ]
    }
   ],
   "source": [
    "##Classifier Accuracy\n",
    "\n",
    "training_score = classifier.score(x_train, y_train)\n",
    "test_score = classifier.score(x_test, y_test)\n",
    "print(training_score)\n",
    "print(test_score)\n"
   ]
  },
  {
   "cell_type": "code",
   "execution_count": 71,
   "id": "93ad6de4",
   "metadata": {},
   "outputs": [],
   "source": [
    "K = []\n",
    "training = []\n",
    "test = []\n",
    "scores = {}\n",
    "  \n",
    "for k in range(2, 8):\n",
    "    clf = KNeighborsClassifier(n_neighbors = k)\n",
    "    clf.fit(x_train, y_train)\n",
    "  \n",
    "    training_score = clf.score(x_train, y_train)\n",
    "    test_score = clf.score(x_test, y_test)\n",
    "    K.append(k)\n",
    "  \n",
    "    training.append(training_score)\n",
    "    test.append(test_score)\n",
    "    scores[k] = [training_score, test_score]\n"
   ]
  },
  {
   "cell_type": "code",
   "execution_count": 72,
   "id": "a2cf32f5",
   "metadata": {},
   "outputs": [
    {
     "name": "stdout",
     "output_type": "stream",
     "text": [
      "2 : [0.5714285714285714, 0.3333333333333333]\n",
      "3 : [0.7142857142857143, 0.0]\n",
      "4 : [0.5714285714285714, 0.3333333333333333]\n",
      "5 : [0.5714285714285714, 0.0]\n",
      "6 : [0.2857142857142857, 0.0]\n",
      "7 : [0.42857142857142855, 0.3333333333333333]\n"
     ]
    }
   ],
   "source": [
    "##Evaluating the model\n",
    "\n",
    "for keys, values in scores.items():\n",
    "    print(keys, ':', values)\n"
   ]
  },
  {
   "cell_type": "code",
   "execution_count": 73,
   "id": "984047e4",
   "metadata": {},
   "outputs": [
    {
     "data": {
      "image/png": "[encoded data removed]",
      "text/plain": [
       "<Figure size 432x288 with 1 Axes>"
      ]
     },
     "metadata": {
      "needs_background": "light"
     },
     "output_type": "display_data"
    }
   ],
   "source": [
    "###Visualization\n",
    "\n",
    "import matplotlib.pyplot as plt\n",
    "plt.scatter(K, training, color ='k')\n",
    "plt.scatter(K, test, color ='g')\n",
    "plt.show()\n"
   ]
  },
  {
   "cell_type": "code",
   "execution_count": null,
   "id": "6f4cb40d",
   "metadata": {},
   "outputs": [],
   "source": []
  },
  {
   "cell_type": "code",
   "execution_count": null,
   "id": "1c3b1976",
   "metadata": {},
   "outputs": [],
   "source": []
  }
 ],
 "metadata": {
  "kernelspec": {
   "display_name": "Python 3 (ipykernel)",
   "language": "python",
   "name": "python3"
  },
  "language_info": {
   "codemirror_mode": {
    "name": "ipython",
    "version": 3
   },
   "file_extension": ".py",
   "mimetype": "text/x-python",
   "name": "python",
   "nbconvert_exporter": "python",
   "pygments_lexer": "ipython3",
   "version": "3.8.12"
  }
 },
 "nbformat": 4,
 "nbformat_minor": 5
}
