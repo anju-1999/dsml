{
 "cells": [
  {
   "cell_type": "code",
   "execution_count": 37,
   "id": "b282f5a7",
   "metadata": {},
   "outputs": [],
   "source": [
    "r=[\"Yes\",\"No\",\"No\",\"Yes\",\"No\",\"No\",\"Yes\",\"No\",\"No\",\"No\"]\n",
    "m=[\"Single\",\"Married\",\"Single\",\"Married\",\"Divorced\",\"Married\",\"Divorced\",\"Single\",\"Married\",\"Single\"]\n",
    "i=[\"High\",\"High\",\"Low\",\"High\",\"High\",\"Low\",\"High\",\"High\",\"Low\",\"High\"]\n",
    "c=[\"No\",\"No\",\"No\",\"No\",\"Yes\",\"No\",\"No\",\"Yes\",\"No\",\"Yes\"]"
   ]
  },
  {
   "cell_type": "code",
   "execution_count": 38,
   "id": "6b1dac3a",
   "metadata": {},
   "outputs": [],
   "source": [
    "import pandas as pd\n",
    "import numpy as np\n"
   ]
  },
  {
   "cell_type": "code",
   "execution_count": 39,
   "id": "ca06aaec",
   "metadata": {},
   "outputs": [],
   "source": [
    "df=pd.DataFrame({\"refund\":r,\"marital_status\":m,\"income\":i,\"cheat\":c})\n",
    "df.to_csv(\"cheats.csv\",index=False,encoding='utf-8')"
   ]
  },
  {
   "cell_type": "code",
   "execution_count": 40,
   "id": "d56d3da7",
   "metadata": {},
   "outputs": [
    {
     "name": "stdout",
     "output_type": "stream",
     "text": [
      "  refund marital_status income cheat\n",
      "0    Yes         Single   High    No\n",
      "1     No        Married   High    No\n",
      "2     No         Single    Low    No\n",
      "3    Yes        Married   High    No\n",
      "4     No       Divorced   High   Yes\n",
      "5     No        Married    Low    No\n",
      "6    Yes       Divorced   High    No\n",
      "7     No         Single   High   Yes\n",
      "8     No        Married    Low    No\n",
      "9     No         Single   High   Yes\n"
     ]
    }
   ],
   "source": [
    "print(df)"
   ]
  },
  {
   "cell_type": "code",
   "execution_count": 41,
   "id": "33d2f9a3",
   "metadata": {},
   "outputs": [
    {
     "data": {
      "text/plain": [
       "pandas.core.frame.DataFrame"
      ]
     },
     "execution_count": 41,
     "metadata": {},
     "output_type": "execute_result"
    }
   ],
   "source": [
    "type(df)"
   ]
  },
  {
   "cell_type": "code",
   "execution_count": 42,
   "id": "4cf9d679",
   "metadata": {},
   "outputs": [
    {
     "data": {
      "text/plain": [
       "(10, 4)"
      ]
     },
     "execution_count": 42,
     "metadata": {},
     "output_type": "execute_result"
    }
   ],
   "source": [
    "df.shape"
   ]
  },
  {
   "cell_type": "code",
   "execution_count": 43,
   "id": "854fcaa9",
   "metadata": {},
   "outputs": [
    {
     "data": {
      "text/html": [
       "<div>\n",
       "<style scoped>\n",
       "    .dataframe tbody tr th:only-of-type {\n",
       "        vertical-align: middle;\n",
       "    }\n",
       "\n",
       "    .dataframe tbody tr th {\n",
       "        vertical-align: top;\n",
       "    }\n",
       "\n",
       "    .dataframe thead th {\n",
       "        text-align: right;\n",
       "    }\n",
       "</style>\n",
       "<table border=\"1\" class=\"dataframe\">\n",
       "  <thead>\n",
       "    <tr style=\"text-align: right;\">\n",
       "      <th></th>\n",
       "      <th>refund</th>\n",
       "      <th>marital_status</th>\n",
       "      <th>income</th>\n",
       "      <th>cheat</th>\n",
       "    </tr>\n",
       "  </thead>\n",
       "  <tbody>\n",
       "    <tr>\n",
       "      <th>0</th>\n",
       "      <td>Yes</td>\n",
       "      <td>Single</td>\n",
       "      <td>High</td>\n",
       "      <td>No</td>\n",
       "    </tr>\n",
       "    <tr>\n",
       "      <th>1</th>\n",
       "      <td>No</td>\n",
       "      <td>Married</td>\n",
       "      <td>High</td>\n",
       "      <td>No</td>\n",
       "    </tr>\n",
       "    <tr>\n",
       "      <th>2</th>\n",
       "      <td>No</td>\n",
       "      <td>Single</td>\n",
       "      <td>Low</td>\n",
       "      <td>No</td>\n",
       "    </tr>\n",
       "    <tr>\n",
       "      <th>3</th>\n",
       "      <td>Yes</td>\n",
       "      <td>Married</td>\n",
       "      <td>High</td>\n",
       "      <td>No</td>\n",
       "    </tr>\n",
       "    <tr>\n",
       "      <th>4</th>\n",
       "      <td>No</td>\n",
       "      <td>Divorced</td>\n",
       "      <td>High</td>\n",
       "      <td>Yes</td>\n",
       "    </tr>\n",
       "  </tbody>\n",
       "</table>\n",
       "</div>"
      ],
      "text/plain": [
       "  refund marital_status income cheat\n",
       "0    Yes         Single   High    No\n",
       "1     No        Married   High    No\n",
       "2     No         Single    Low    No\n",
       "3    Yes        Married   High    No\n",
       "4     No       Divorced   High   Yes"
      ]
     },
     "execution_count": 43,
     "metadata": {},
     "output_type": "execute_result"
    }
   ],
   "source": [
    "df.head()"
   ]
  },
  {
   "cell_type": "code",
   "execution_count": 44,
   "id": "4c2bd612",
   "metadata": {},
   "outputs": [
    {
     "data": {
      "text/plain": [
       "cheat\n",
       "No     7\n",
       "Yes    3\n",
       "dtype: int64"
      ]
     },
     "execution_count": 44,
     "metadata": {},
     "output_type": "execute_result"
    }
   ],
   "source": [
    "df.value_counts(\"cheat\")"
   ]
  },
  {
   "cell_type": "code",
   "execution_count": 45,
   "id": "09a0f151",
   "metadata": {},
   "outputs": [
    {
     "name": "stdout",
     "output_type": "stream",
     "text": [
      "0     No\n",
      "1     No\n",
      "2     No\n",
      "3     No\n",
      "4    Yes\n",
      "5     No\n",
      "6     No\n",
      "7    Yes\n",
      "8     No\n",
      "9    Yes\n",
      "Name: cheat, dtype: object\n"
     ]
    }
   ],
   "source": [
    "y=df['cheat']\n",
    "print(y)"
   ]
  },
  {
   "cell_type": "code",
   "execution_count": 46,
   "id": "d53745fc",
   "metadata": {},
   "outputs": [
    {
     "name": "stdout",
     "output_type": "stream",
     "text": [
      "  refund marital_status income\n",
      "0    Yes         Single   High\n",
      "1     No        Married   High\n",
      "2     No         Single    Low\n",
      "3    Yes        Married   High\n",
      "4     No       Divorced   High\n",
      "5     No        Married    Low\n",
      "6    Yes       Divorced   High\n",
      "7     No         Single   High\n",
      "8     No        Married    Low\n",
      "9     No         Single   High\n"
     ]
    }
   ],
   "source": [
    "df.drop('cheat',axis=1,inplace=True)\n",
    "x=df\n",
    "print(df)"
   ]
  },
  {
   "cell_type": "code",
   "execution_count": 47,
   "id": "ad2cf140",
   "metadata": {},
   "outputs": [],
   "source": [
    "from sklearn.preprocessing import LabelEncoder"
   ]
  },
  {
   "cell_type": "code",
   "execution_count": 50,
   "id": "7e1c82dd",
   "metadata": {},
   "outputs": [
    {
     "name": "stdout",
     "output_type": "stream",
     "text": [
      "   refund  marital_status  income\n",
      "0       1               2       0\n",
      "1       0               1       0\n",
      "2       0               2       1\n",
      "3       1               1       0\n",
      "4       0               0       0\n",
      "5       0               1       1\n",
      "6       1               0       0\n",
      "7       0               2       0\n",
      "8       0               1       1\n",
      "9       0               2       0\n"
     ]
    }
   ],
   "source": [
    "l=LabelEncoder()\n",
    "x['income']=l.fit_transform(df['income'])\n",
    "x['refund']=l.fit_transform(df['refund'])\n",
    "x['marital_status']=l.fit_transform(df['marital_status'])\n",
    "print(x)"
   ]
  },
  {
   "cell_type": "code",
   "execution_count": 51,
   "id": "42d6456b",
   "metadata": {},
   "outputs": [],
   "source": [
    "from sklearn.model_selection import train_test_split\n",
    "x_tr,x_tes,y_tr,y_tes=train_test_split(x,y,test_size=0.30,random_state=0)"
   ]
  },
  {
   "cell_type": "code",
   "execution_count": 52,
   "id": "2de18941",
   "metadata": {},
   "outputs": [],
   "source": [
    "from sklearn.preprocessing import StandardScaler"
   ]
  },
  {
   "cell_type": "code",
   "execution_count": 53,
   "id": "acb3637b",
   "metadata": {},
   "outputs": [
    {
     "name": "stdout",
     "output_type": "stream",
     "text": [
      "[[-0.8660254   1.02062073 -0.40824829]\n",
      " [-0.8660254  -0.40824829 -0.40824829]\n",
      " [ 1.15470054 -1.83711731 -0.40824829]\n",
      " [-0.8660254   1.02062073 -0.40824829]\n",
      " [ 1.15470054 -0.40824829 -0.40824829]\n",
      " [ 1.15470054  1.02062073 -0.40824829]\n",
      " [-0.8660254  -0.40824829  2.44948974]]\n"
     ]
    }
   ],
   "source": [
    "s=StandardScaler()\n",
    "x_tr=s.fit_transform(x_tr)\n",
    "x_tes=s.fit_transform(x_tes)\n",
    "print(x_tr)"
   ]
  },
  {
   "cell_type": "code",
   "execution_count": 54,
   "id": "ddd24046",
   "metadata": {},
   "outputs": [],
   "source": [
    "from sklearn import tree"
   ]
  },
  {
   "cell_type": "code",
   "execution_count": 55,
   "id": "1607b478",
   "metadata": {},
   "outputs": [
    {
     "data": {
      "text/plain": [
       "DecisionTreeClassifier(criterion='entropy', random_state=0)"
      ]
     },
     "execution_count": 55,
     "metadata": {},
     "output_type": "execute_result"
    }
   ],
   "source": [
    "c=tree.DecisionTreeClassifier(criterion='entropy',random_state=0)\n",
    "c.fit(x_tr,y_tr)"
   ]
  },
  {
   "cell_type": "code",
   "execution_count": 58,
   "id": "edb04463",
   "metadata": {},
   "outputs": [],
   "source": [
    "import matplotlib.pyplot as plt"
   ]
  },
  {
   "cell_type": "code",
   "execution_count": 60,
   "id": "409194d4",
   "metadata": {},
   "outputs": [
    {
     "data": {
      "text/plain": [
       "[Text(0.4, 0.8333333333333334, 'X[1] <= 0.306\\nentropy = 0.863\\nsamples = 7\\nvalue = [5, 2]'),\n",
       " Text(0.2, 0.5, 'entropy = 0.0\\nsamples = 4\\nvalue = [4, 0]'),\n",
       " Text(0.6, 0.5, 'X[0] <= 0.144\\nentropy = 0.918\\nsamples = 3\\nvalue = [1, 2]'),\n",
       " Text(0.4, 0.16666666666666666, 'entropy = 0.0\\nsamples = 2\\nvalue = [0, 2]'),\n",
       " Text(0.8, 0.16666666666666666, 'entropy = 0.0\\nsamples = 1\\nvalue = [1, 0]')]"
      ]
     },
     "execution_count": 60,
     "metadata": {},
     "output_type": "execute_result"
    },
    {
     "data": {
      "image/png": "[encoded data removed]",
      "text/plain": [
       "<Figure size 576x576 with 1 Axes>"
      ]
     },
     "metadata": {
      "needs_background": "light"
     },
     "output_type": "display_data"
    }
   ],
   "source": [
    "plt.figure(figsize=(8,8))\n",
    "tree.plot_tree(c)"
   ]
  },
  {
   "cell_type": "code",
   "execution_count": 68,
   "id": "de98e510",
   "metadata": {},
   "outputs": [
    {
     "name": "stdout",
     "output_type": "stream",
     "text": [
      "['Yes' 'No' 'No']\n"
     ]
    }
   ],
   "source": [
    "y_pred=c.predict(x_tes)\n",
    "print(y_pred)"
   ]
  },
  {
   "cell_type": "code",
   "execution_count": 62,
   "id": "a5935af9",
   "metadata": {},
   "outputs": [],
   "source": [
    "from sklearn.metrics import confusion_matrix"
   ]
  },
  {
   "cell_type": "code",
   "execution_count": 64,
   "id": "86c61063",
   "metadata": {},
   "outputs": [
    {
     "name": "stdout",
     "output_type": "stream",
     "text": [
      "[[1 1]\n",
      " [1 0]]\n"
     ]
    }
   ],
   "source": [
    "cm=confusion_matrix(y_tes,y_pred,labels=c.classes_)\n",
    "print(cm)"
   ]
  },
  {
   "cell_type": "code",
   "execution_count": 66,
   "id": "6543f195",
   "metadata": {},
   "outputs": [],
   "source": [
    "from sklearn.metrics import ConfusionMatrixDisplay"
   ]
  },
  {
   "cell_type": "code",
   "execution_count": 67,
   "id": "ba25d4bd",
   "metadata": {},
   "outputs": [
    {
     "data": {
      "text/plain": [
       "<sklearn.metrics._plot.confusion_matrix.ConfusionMatrixDisplay at 0x2404cbc3e80>"
      ]
     },
     "execution_count": 67,
     "metadata": {},
     "output_type": "execute_result"
    },
    {
     "data": {
      "image/png": "[encoded data removed]",
      "text/plain": [
       "<Figure size 432x288 with 2 Axes>"
      ]
     },
     "metadata": {
      "needs_background": "light"
     },
     "output_type": "display_data"
    }
   ],
   "source": [
    "cd=ConfusionMatrixDisplay(confusion_matrix=cm,display_labels=c.classes_)\n",
    "cd.plot()"
   ]
  },
  {
   "cell_type": "code",
   "execution_count": 69,
   "id": "a8512a12",
   "metadata": {},
   "outputs": [
    {
     "name": "stdout",
     "output_type": "stream",
     "text": [
      "test accuracy  0.3333333333333333\n",
      "train accuracy  1.0\n"
     ]
    }
   ],
   "source": [
    "tes_acc=c.score(x_tes,y_tes)\n",
    "tr_acc=c.score(x_tr,y_tr)\n",
    "print(\"test accuracy \",tes_acc)\n",
    "print(\"train accuracy \",tr_acc)"
   ]
  },
  {
   "cell_type": "code",
   "execution_count": null,
   "id": "1e938f16",
   "metadata": {},
   "outputs": [],
   "source": []
  }
 ],
 "metadata": {
  "kernelspec": {
   "display_name": "Python 3 (ipykernel)",
   "language": "python",
   "name": "python3"
  },
  "language_info": {
   "codemirror_mode": {
    "name": "ipython",
    "version": 3
   },
   "file_extension": ".py",
   "mimetype": "text/x-python",
   "name": "python",
   "nbconvert_exporter": "python",
   "pygments_lexer": "ipython3",
   "version": "3.8.12"
  }
 },
 "nbformat": 4,
 "nbformat_minor": 5
}
